{
 "cells": [
  {
   "cell_type": "markdown",
   "id": "b047ffcd-b245-4c68-adda-ea84881e588d",
   "metadata": {},
   "source": [
    "### Задание 1\n",
    "### В ходе тестирования одной гипотезы целевой группе была предложена новая механика оплаты услуг на сайте, у контрольной группы оставалась базовая механика. В качестве задания вам необходимо проанализировать итоги эксперимента и сделать вывод, стоит ли запускать новую механику оплаты на всех пользователей."
   ]
  },
  {
   "cell_type": "markdown",
   "id": "1f11a804-067c-4ef1-bb99-b871df26b30c",
   "metadata": {},
   "source": [
    "Импортируем необходимые библиотеки"
   ]
  },
  {
   "cell_type": "code",
   "execution_count": 2,
   "id": "3ea7c574-2d7f-4f44-a255-4f12e290692b",
   "metadata": {},
   "outputs": [],
   "source": [
    "import pandas as pd\n",
    "import seaborn as sns\n",
    "from matplotlib import pyplot as plt\n",
    "from scipy import stats\n",
    "from scipy.stats import levene\n",
    "from statsmodels.stats.proportion import proportions_ztest\n",
    "import numpy as np\n",
    "from scipy.stats import norm \n",
    "import os #для чтения переменных сред\n",
    "from clickhouse_driver import Client #Создает подлкючение к Кликхаусу\n",
    "from dotenv import load_dotenv #для запуска переменных сред\n",
    "from IPython.core.interactiveshell import InteractiveShell # добавим возможность вывода нескольких результаов сразу под одной ячейкой\n",
    "InteractiveShell.ast_node_interactivity = \"all\"\n"
   ]
  },
  {
   "cell_type": "markdown",
   "id": "860040fa-505f-4ab0-a77c-9306a61c85c4",
   "metadata": {},
   "source": [
    "Открываем необходимые файлы, проверяем на отсуствие пропусков в данных"
   ]
  },
  {
   "cell_type": "code",
   "execution_count": 3,
   "id": "09acf5f9-b488-4186-a777-3834590535cc",
   "metadata": {},
   "outputs": [
    {
     "data": {
      "text/html": [
       "<div>\n",
       "<style scoped>\n",
       "    .dataframe tbody tr th:only-of-type {\n",
       "        vertical-align: middle;\n",
       "    }\n",
       "\n",
       "    .dataframe tbody tr th {\n",
       "        vertical-align: top;\n",
       "    }\n",
       "\n",
       "    .dataframe thead th {\n",
       "        text-align: right;\n",
       "    }\n",
       "</style>\n",
       "<table border=\"1\" class=\"dataframe\">\n",
       "  <thead>\n",
       "    <tr style=\"text-align: right;\">\n",
       "      <th></th>\n",
       "      <th>id</th>\n",
       "      <th>grp</th>\n",
       "    </tr>\n",
       "  </thead>\n",
       "  <tbody>\n",
       "    <tr>\n",
       "      <th>0</th>\n",
       "      <td>1489</td>\n",
       "      <td>B</td>\n",
       "    </tr>\n",
       "    <tr>\n",
       "      <th>1</th>\n",
       "      <td>1627</td>\n",
       "      <td>A</td>\n",
       "    </tr>\n",
       "    <tr>\n",
       "      <th>2</th>\n",
       "      <td>1768</td>\n",
       "      <td>B</td>\n",
       "    </tr>\n",
       "    <tr>\n",
       "      <th>3</th>\n",
       "      <td>1783</td>\n",
       "      <td>B</td>\n",
       "    </tr>\n",
       "    <tr>\n",
       "      <th>4</th>\n",
       "      <td>1794</td>\n",
       "      <td>A</td>\n",
       "    </tr>\n",
       "    <tr>\n",
       "      <th>...</th>\n",
       "      <td>...</td>\n",
       "      <td>...</td>\n",
       "    </tr>\n",
       "    <tr>\n",
       "      <th>74479</th>\n",
       "      <td>5692459</td>\n",
       "      <td>B</td>\n",
       "    </tr>\n",
       "    <tr>\n",
       "      <th>74480</th>\n",
       "      <td>5692572</td>\n",
       "      <td>B</td>\n",
       "    </tr>\n",
       "    <tr>\n",
       "      <th>74481</th>\n",
       "      <td>5692865</td>\n",
       "      <td>B</td>\n",
       "    </tr>\n",
       "    <tr>\n",
       "      <th>74482</th>\n",
       "      <td>5693667</td>\n",
       "      <td>B</td>\n",
       "    </tr>\n",
       "    <tr>\n",
       "      <th>74483</th>\n",
       "      <td>5694419</td>\n",
       "      <td>B</td>\n",
       "    </tr>\n",
       "  </tbody>\n",
       "</table>\n",
       "<p>74484 rows × 2 columns</p>\n",
       "</div>"
      ],
      "text/plain": [
       "            id grp\n",
       "0         1489   B\n",
       "1         1627   A\n",
       "2         1768   B\n",
       "3         1783   B\n",
       "4         1794   A\n",
       "...        ...  ..\n",
       "74479  5692459   B\n",
       "74480  5692572   B\n",
       "74481  5692865   B\n",
       "74482  5693667   B\n",
       "74483  5694419   B\n",
       "\n",
       "[74484 rows x 2 columns]"
      ]
     },
     "execution_count": 3,
     "metadata": {},
     "output_type": "execute_result"
    }
   ],
   "source": [
    "grоups = pd.read_csv('Проект_2_groups.csv', sep=';')\n",
    "grоups"
   ]
  },
  {
   "cell_type": "code",
   "execution_count": 4,
   "id": "09d48b27-445a-45c4-b920-21748e3f9848",
   "metadata": {},
   "outputs": [
    {
     "data": {
      "text/html": [
       "<div>\n",
       "<style scoped>\n",
       "    .dataframe tbody tr th:only-of-type {\n",
       "        vertical-align: middle;\n",
       "    }\n",
       "\n",
       "    .dataframe tbody tr th {\n",
       "        vertical-align: top;\n",
       "    }\n",
       "\n",
       "    .dataframe thead th {\n",
       "        text-align: right;\n",
       "    }\n",
       "</style>\n",
       "<table border=\"1\" class=\"dataframe\">\n",
       "  <thead>\n",
       "    <tr style=\"text-align: right;\">\n",
       "      <th></th>\n",
       "      <th>id</th>\n",
       "      <th>grp</th>\n",
       "    </tr>\n",
       "  </thead>\n",
       "  <tbody>\n",
       "    <tr>\n",
       "      <th>0</th>\n",
       "      <td>5694584</td>\n",
       "      <td>B</td>\n",
       "    </tr>\n",
       "    <tr>\n",
       "      <th>1</th>\n",
       "      <td>5694830</td>\n",
       "      <td>B</td>\n",
       "    </tr>\n",
       "    <tr>\n",
       "      <th>2</th>\n",
       "      <td>5695057</td>\n",
       "      <td>B</td>\n",
       "    </tr>\n",
       "    <tr>\n",
       "      <th>3</th>\n",
       "      <td>5698872</td>\n",
       "      <td>B</td>\n",
       "    </tr>\n",
       "    <tr>\n",
       "      <th>4</th>\n",
       "      <td>5699067</td>\n",
       "      <td>B</td>\n",
       "    </tr>\n",
       "    <tr>\n",
       "      <th>...</th>\n",
       "      <td>...</td>\n",
       "      <td>...</td>\n",
       "    </tr>\n",
       "    <tr>\n",
       "      <th>87</th>\n",
       "      <td>200247820</td>\n",
       "      <td>B</td>\n",
       "    </tr>\n",
       "    <tr>\n",
       "      <th>88</th>\n",
       "      <td>201032527</td>\n",
       "      <td>B</td>\n",
       "    </tr>\n",
       "    <tr>\n",
       "      <th>89</th>\n",
       "      <td>201067612</td>\n",
       "      <td>B</td>\n",
       "    </tr>\n",
       "    <tr>\n",
       "      <th>90</th>\n",
       "      <td>201067653</td>\n",
       "      <td>B</td>\n",
       "    </tr>\n",
       "    <tr>\n",
       "      <th>91</th>\n",
       "      <td>201067659</td>\n",
       "      <td>B</td>\n",
       "    </tr>\n",
       "  </tbody>\n",
       "</table>\n",
       "<p>92 rows × 2 columns</p>\n",
       "</div>"
      ],
      "text/plain": [
       "           id grp\n",
       "0     5694584   B\n",
       "1     5694830   B\n",
       "2     5695057   B\n",
       "3     5698872   B\n",
       "4     5699067   B\n",
       "..        ...  ..\n",
       "87  200247820   B\n",
       "88  201032527   B\n",
       "89  201067612   B\n",
       "90  201067653   B\n",
       "91  201067659   B\n",
       "\n",
       "[92 rows x 2 columns]"
      ]
     },
     "execution_count": 4,
     "metadata": {},
     "output_type": "execute_result"
    }
   ],
   "source": [
    "grоups_add = pd.read_csv('Проект_2_group_add.csv')\n",
    "grоups_add"
   ]
  },
  {
   "cell_type": "code",
   "execution_count": 5,
   "id": "83eb1cf6-c825-481a-8022-426d4349b3de",
   "metadata": {},
   "outputs": [
    {
     "name": "stdout",
     "output_type": "stream",
     "text": [
      "<class 'pandas.core.frame.DataFrame'>\n",
      "RangeIndex: 74484 entries, 0 to 74483\n",
      "Data columns (total 2 columns):\n",
      " #   Column  Non-Null Count  Dtype \n",
      "---  ------  --------------  ----- \n",
      " 0   id      74484 non-null  int64 \n",
      " 1   grp     74484 non-null  object\n",
      "dtypes: int64(1), object(1)\n",
      "memory usage: 1.1+ MB\n",
      "<class 'pandas.core.frame.DataFrame'>\n",
      "RangeIndex: 92 entries, 0 to 91\n",
      "Data columns (total 2 columns):\n",
      " #   Column  Non-Null Count  Dtype \n",
      "---  ------  --------------  ----- \n",
      " 0   id      92 non-null     int64 \n",
      " 1   grp     92 non-null     object\n",
      "dtypes: int64(1), object(1)\n",
      "memory usage: 1.6+ KB\n"
     ]
    }
   ],
   "source": [
    "grоups.info()\n",
    "grоups_add.info()"
   ]
  },
  {
   "cell_type": "markdown",
   "id": "49694ef5-2e98-431f-8a50-d8ffc3f022ac",
   "metadata": {},
   "source": [
    "Определяем, что пересечений по пользователям между датасетами нет"
   ]
  },
  {
   "cell_type": "code",
   "execution_count": 6,
   "id": "a5a4fb8e-2000-47f3-ac99-5bf1d4528adc",
   "metadata": {},
   "outputs": [
    {
     "data": {
      "text/plain": [
       "set()"
      ]
     },
     "execution_count": 6,
     "metadata": {},
     "output_type": "execute_result"
    }
   ],
   "source": [
    "grоups_set = set(grоups['id'].unique()) \n",
    "grоups_add_set = set(grоups_add['id'].unique())\n",
    "grоups_set.intersection(grоups_add_set)"
   ]
  },
  {
   "cell_type": "markdown",
   "id": "56fb2b25-8055-4cb3-a17d-2fed5bd17302",
   "metadata": {},
   "source": [
    "Объединяем датафреймы по группам студентов подгруженные с интервалом по времени"
   ]
  },
  {
   "cell_type": "code",
   "execution_count": 7,
   "id": "4a3e4bed-8d31-43d9-b6d3-d5f2799b0bca",
   "metadata": {},
   "outputs": [
    {
     "data": {
      "text/html": [
       "<div>\n",
       "<style scoped>\n",
       "    .dataframe tbody tr th:only-of-type {\n",
       "        vertical-align: middle;\n",
       "    }\n",
       "\n",
       "    .dataframe tbody tr th {\n",
       "        vertical-align: top;\n",
       "    }\n",
       "\n",
       "    .dataframe thead th {\n",
       "        text-align: right;\n",
       "    }\n",
       "</style>\n",
       "<table border=\"1\" class=\"dataframe\">\n",
       "  <thead>\n",
       "    <tr style=\"text-align: right;\">\n",
       "      <th></th>\n",
       "      <th>id</th>\n",
       "      <th>grp</th>\n",
       "    </tr>\n",
       "  </thead>\n",
       "  <tbody>\n",
       "    <tr>\n",
       "      <th>0</th>\n",
       "      <td>1489</td>\n",
       "      <td>B</td>\n",
       "    </tr>\n",
       "    <tr>\n",
       "      <th>1</th>\n",
       "      <td>1627</td>\n",
       "      <td>A</td>\n",
       "    </tr>\n",
       "    <tr>\n",
       "      <th>2</th>\n",
       "      <td>1768</td>\n",
       "      <td>B</td>\n",
       "    </tr>\n",
       "    <tr>\n",
       "      <th>3</th>\n",
       "      <td>1783</td>\n",
       "      <td>B</td>\n",
       "    </tr>\n",
       "    <tr>\n",
       "      <th>4</th>\n",
       "      <td>1794</td>\n",
       "      <td>A</td>\n",
       "    </tr>\n",
       "    <tr>\n",
       "      <th>...</th>\n",
       "      <td>...</td>\n",
       "      <td>...</td>\n",
       "    </tr>\n",
       "    <tr>\n",
       "      <th>87</th>\n",
       "      <td>200247820</td>\n",
       "      <td>B</td>\n",
       "    </tr>\n",
       "    <tr>\n",
       "      <th>88</th>\n",
       "      <td>201032527</td>\n",
       "      <td>B</td>\n",
       "    </tr>\n",
       "    <tr>\n",
       "      <th>89</th>\n",
       "      <td>201067612</td>\n",
       "      <td>B</td>\n",
       "    </tr>\n",
       "    <tr>\n",
       "      <th>90</th>\n",
       "      <td>201067653</td>\n",
       "      <td>B</td>\n",
       "    </tr>\n",
       "    <tr>\n",
       "      <th>91</th>\n",
       "      <td>201067659</td>\n",
       "      <td>B</td>\n",
       "    </tr>\n",
       "  </tbody>\n",
       "</table>\n",
       "<p>74576 rows × 2 columns</p>\n",
       "</div>"
      ],
      "text/plain": [
       "           id grp\n",
       "0        1489   B\n",
       "1        1627   A\n",
       "2        1768   B\n",
       "3        1783   B\n",
       "4        1794   A\n",
       "..        ...  ..\n",
       "87  200247820   B\n",
       "88  201032527   B\n",
       "89  201067612   B\n",
       "90  201067653   B\n",
       "91  201067659   B\n",
       "\n",
       "[74576 rows x 2 columns]"
      ]
     },
     "execution_count": 7,
     "metadata": {},
     "output_type": "execute_result"
    }
   ],
   "source": [
    "grоups_all = pd.concat([grоups, grоups_add])\n",
    "grоups_all"
   ]
  },
  {
   "cell_type": "markdown",
   "id": "4bc51a14-90a1-46bb-a64b-cf4bef8b2a21",
   "metadata": {},
   "source": [
    "Загружаем датафрейм  с юзерами, которые пользовались сайтом в период проведения акции"
   ]
  },
  {
   "cell_type": "code",
   "execution_count": 8,
   "id": "eab32e92-f5e7-42ba-9036-1c7f0b2f9e1a",
   "metadata": {},
   "outputs": [
    {
     "data": {
      "text/html": [
       "<div>\n",
       "<style scoped>\n",
       "    .dataframe tbody tr th:only-of-type {\n",
       "        vertical-align: middle;\n",
       "    }\n",
       "\n",
       "    .dataframe tbody tr th {\n",
       "        vertical-align: top;\n",
       "    }\n",
       "\n",
       "    .dataframe thead th {\n",
       "        text-align: right;\n",
       "    }\n",
       "</style>\n",
       "<table border=\"1\" class=\"dataframe\">\n",
       "  <thead>\n",
       "    <tr style=\"text-align: right;\">\n",
       "      <th></th>\n",
       "      <th>student_id</th>\n",
       "    </tr>\n",
       "  </thead>\n",
       "  <tbody>\n",
       "    <tr>\n",
       "      <th>0</th>\n",
       "      <td>581585</td>\n",
       "    </tr>\n",
       "    <tr>\n",
       "      <th>1</th>\n",
       "      <td>5723133</td>\n",
       "    </tr>\n",
       "    <tr>\n",
       "      <th>2</th>\n",
       "      <td>3276743</td>\n",
       "    </tr>\n",
       "    <tr>\n",
       "      <th>3</th>\n",
       "      <td>4238589</td>\n",
       "    </tr>\n",
       "    <tr>\n",
       "      <th>4</th>\n",
       "      <td>4475369</td>\n",
       "    </tr>\n",
       "    <tr>\n",
       "      <th>...</th>\n",
       "      <td>...</td>\n",
       "    </tr>\n",
       "    <tr>\n",
       "      <th>8336</th>\n",
       "      <td>1794344</td>\n",
       "    </tr>\n",
       "    <tr>\n",
       "      <th>8337</th>\n",
       "      <td>296883</td>\n",
       "    </tr>\n",
       "    <tr>\n",
       "      <th>8338</th>\n",
       "      <td>3598448</td>\n",
       "    </tr>\n",
       "    <tr>\n",
       "      <th>8339</th>\n",
       "      <td>3610547</td>\n",
       "    </tr>\n",
       "    <tr>\n",
       "      <th>8340</th>\n",
       "      <td>205705</td>\n",
       "    </tr>\n",
       "  </tbody>\n",
       "</table>\n",
       "<p>8341 rows × 1 columns</p>\n",
       "</div>"
      ],
      "text/plain": [
       "      student_id\n",
       "0         581585\n",
       "1        5723133\n",
       "2        3276743\n",
       "3        4238589\n",
       "4        4475369\n",
       "...          ...\n",
       "8336     1794344\n",
       "8337      296883\n",
       "8338     3598448\n",
       "8339     3610547\n",
       "8340      205705\n",
       "\n",
       "[8341 rows x 1 columns]"
      ]
     },
     "execution_count": 8,
     "metadata": {},
     "output_type": "execute_result"
    }
   ],
   "source": [
    "active = pd.read_csv('Проект_2_active_studs.csv', sep=';')\n",
    "active"
   ]
  },
  {
   "cell_type": "markdown",
   "id": "cf23dcf4-055f-4b1d-ab25-7d0bdf278348",
   "metadata": {},
   "source": [
    "Мерджим ДФ так, чтобы остались только юзеры, которые были на сайте в период проведения акции, так чтобы отражалось в какую группу они попали"
   ]
  },
  {
   "cell_type": "code",
   "execution_count": 9,
   "id": "04dd225f-1be3-4f64-9ac7-e78f74febdc1",
   "metadata": {},
   "outputs": [
    {
     "data": {
      "text/html": [
       "<div>\n",
       "<style scoped>\n",
       "    .dataframe tbody tr th:only-of-type {\n",
       "        vertical-align: middle;\n",
       "    }\n",
       "\n",
       "    .dataframe tbody tr th {\n",
       "        vertical-align: top;\n",
       "    }\n",
       "\n",
       "    .dataframe thead th {\n",
       "        text-align: right;\n",
       "    }\n",
       "</style>\n",
       "<table border=\"1\" class=\"dataframe\">\n",
       "  <thead>\n",
       "    <tr style=\"text-align: right;\">\n",
       "      <th></th>\n",
       "      <th>student_id</th>\n",
       "      <th>id</th>\n",
       "      <th>grp</th>\n",
       "    </tr>\n",
       "  </thead>\n",
       "  <tbody>\n",
       "    <tr>\n",
       "      <th>0</th>\n",
       "      <td>581585</td>\n",
       "      <td>581585</td>\n",
       "      <td>A</td>\n",
       "    </tr>\n",
       "    <tr>\n",
       "      <th>1</th>\n",
       "      <td>5723133</td>\n",
       "      <td>5723133</td>\n",
       "      <td>A</td>\n",
       "    </tr>\n",
       "    <tr>\n",
       "      <th>2</th>\n",
       "      <td>3276743</td>\n",
       "      <td>3276743</td>\n",
       "      <td>B</td>\n",
       "    </tr>\n",
       "    <tr>\n",
       "      <th>3</th>\n",
       "      <td>4238589</td>\n",
       "      <td>4238589</td>\n",
       "      <td>A</td>\n",
       "    </tr>\n",
       "    <tr>\n",
       "      <th>4</th>\n",
       "      <td>4475369</td>\n",
       "      <td>4475369</td>\n",
       "      <td>B</td>\n",
       "    </tr>\n",
       "    <tr>\n",
       "      <th>...</th>\n",
       "      <td>...</td>\n",
       "      <td>...</td>\n",
       "      <td>...</td>\n",
       "    </tr>\n",
       "    <tr>\n",
       "      <th>8336</th>\n",
       "      <td>1794344</td>\n",
       "      <td>1794344</td>\n",
       "      <td>B</td>\n",
       "    </tr>\n",
       "    <tr>\n",
       "      <th>8337</th>\n",
       "      <td>296883</td>\n",
       "      <td>296883</td>\n",
       "      <td>B</td>\n",
       "    </tr>\n",
       "    <tr>\n",
       "      <th>8338</th>\n",
       "      <td>3598448</td>\n",
       "      <td>3598448</td>\n",
       "      <td>B</td>\n",
       "    </tr>\n",
       "    <tr>\n",
       "      <th>8339</th>\n",
       "      <td>3610547</td>\n",
       "      <td>3610547</td>\n",
       "      <td>B</td>\n",
       "    </tr>\n",
       "    <tr>\n",
       "      <th>8340</th>\n",
       "      <td>205705</td>\n",
       "      <td>205705</td>\n",
       "      <td>B</td>\n",
       "    </tr>\n",
       "  </tbody>\n",
       "</table>\n",
       "<p>8341 rows × 3 columns</p>\n",
       "</div>"
      ],
      "text/plain": [
       "      student_id       id grp\n",
       "0         581585   581585   A\n",
       "1        5723133  5723133   A\n",
       "2        3276743  3276743   B\n",
       "3        4238589  4238589   A\n",
       "4        4475369  4475369   B\n",
       "...          ...      ...  ..\n",
       "8336     1794344  1794344   B\n",
       "8337      296883   296883   B\n",
       "8338     3598448  3598448   B\n",
       "8339     3610547  3610547   B\n",
       "8340      205705   205705   B\n",
       "\n",
       "[8341 rows x 3 columns]"
      ]
     },
     "execution_count": 9,
     "metadata": {},
     "output_type": "execute_result"
    }
   ],
   "source": [
    "active_groups = pd.merge(active, grоups_all, left_on='student_id', right_on='id', how='left')\n",
    "active_groups"
   ]
  },
  {
   "cell_type": "code",
   "execution_count": 10,
   "id": "c3d52718-5c6d-419c-bde7-a515c09d2587",
   "metadata": {},
   "outputs": [
    {
     "data": {
      "text/html": [
       "<div>\n",
       "<style scoped>\n",
       "    .dataframe tbody tr th:only-of-type {\n",
       "        vertical-align: middle;\n",
       "    }\n",
       "\n",
       "    .dataframe tbody tr th {\n",
       "        vertical-align: top;\n",
       "    }\n",
       "\n",
       "    .dataframe thead th {\n",
       "        text-align: right;\n",
       "    }\n",
       "</style>\n",
       "<table border=\"1\" class=\"dataframe\">\n",
       "  <thead>\n",
       "    <tr style=\"text-align: right;\">\n",
       "      <th></th>\n",
       "      <th>student_id</th>\n",
       "      <th>grp</th>\n",
       "    </tr>\n",
       "  </thead>\n",
       "  <tbody>\n",
       "    <tr>\n",
       "      <th>0</th>\n",
       "      <td>581585</td>\n",
       "      <td>A</td>\n",
       "    </tr>\n",
       "    <tr>\n",
       "      <th>1</th>\n",
       "      <td>5723133</td>\n",
       "      <td>A</td>\n",
       "    </tr>\n",
       "    <tr>\n",
       "      <th>2</th>\n",
       "      <td>3276743</td>\n",
       "      <td>B</td>\n",
       "    </tr>\n",
       "    <tr>\n",
       "      <th>3</th>\n",
       "      <td>4238589</td>\n",
       "      <td>A</td>\n",
       "    </tr>\n",
       "    <tr>\n",
       "      <th>4</th>\n",
       "      <td>4475369</td>\n",
       "      <td>B</td>\n",
       "    </tr>\n",
       "    <tr>\n",
       "      <th>...</th>\n",
       "      <td>...</td>\n",
       "      <td>...</td>\n",
       "    </tr>\n",
       "    <tr>\n",
       "      <th>8336</th>\n",
       "      <td>1794344</td>\n",
       "      <td>B</td>\n",
       "    </tr>\n",
       "    <tr>\n",
       "      <th>8337</th>\n",
       "      <td>296883</td>\n",
       "      <td>B</td>\n",
       "    </tr>\n",
       "    <tr>\n",
       "      <th>8338</th>\n",
       "      <td>3598448</td>\n",
       "      <td>B</td>\n",
       "    </tr>\n",
       "    <tr>\n",
       "      <th>8339</th>\n",
       "      <td>3610547</td>\n",
       "      <td>B</td>\n",
       "    </tr>\n",
       "    <tr>\n",
       "      <th>8340</th>\n",
       "      <td>205705</td>\n",
       "      <td>B</td>\n",
       "    </tr>\n",
       "  </tbody>\n",
       "</table>\n",
       "<p>8341 rows × 2 columns</p>\n",
       "</div>"
      ],
      "text/plain": [
       "      student_id grp\n",
       "0         581585   A\n",
       "1        5723133   A\n",
       "2        3276743   B\n",
       "3        4238589   A\n",
       "4        4475369   B\n",
       "...          ...  ..\n",
       "8336     1794344   B\n",
       "8337      296883   B\n",
       "8338     3598448   B\n",
       "8339     3610547   B\n",
       "8340      205705   B\n",
       "\n",
       "[8341 rows x 2 columns]"
      ]
     },
     "execution_count": 10,
     "metadata": {},
     "output_type": "execute_result"
    }
   ],
   "source": [
    "active_groups = active_groups.drop('id', axis=1)\n",
    "active_groups"
   ]
  },
  {
   "cell_type": "markdown",
   "id": "06f955c6-842e-4f54-9de0-438af7afb73d",
   "metadata": {},
   "source": [
    "Подгружаем данные по тратам юзеров"
   ]
  },
  {
   "cell_type": "code",
   "execution_count": 11,
   "id": "efee2332-f41b-47cd-acad-ea24365aef44",
   "metadata": {},
   "outputs": [
    {
     "data": {
      "text/html": [
       "<div>\n",
       "<style scoped>\n",
       "    .dataframe tbody tr th:only-of-type {\n",
       "        vertical-align: middle;\n",
       "    }\n",
       "\n",
       "    .dataframe tbody tr th {\n",
       "        vertical-align: top;\n",
       "    }\n",
       "\n",
       "    .dataframe thead th {\n",
       "        text-align: right;\n",
       "    }\n",
       "</style>\n",
       "<table border=\"1\" class=\"dataframe\">\n",
       "  <thead>\n",
       "    <tr style=\"text-align: right;\">\n",
       "      <th></th>\n",
       "      <th>student_id</th>\n",
       "      <th>rev</th>\n",
       "    </tr>\n",
       "  </thead>\n",
       "  <tbody>\n",
       "    <tr>\n",
       "      <th>0</th>\n",
       "      <td>1627</td>\n",
       "      <td>990.0</td>\n",
       "    </tr>\n",
       "    <tr>\n",
       "      <th>1</th>\n",
       "      <td>3185</td>\n",
       "      <td>690.0</td>\n",
       "    </tr>\n",
       "    <tr>\n",
       "      <th>2</th>\n",
       "      <td>25973</td>\n",
       "      <td>690.0</td>\n",
       "    </tr>\n",
       "    <tr>\n",
       "      <th>3</th>\n",
       "      <td>26280</td>\n",
       "      <td>690.0</td>\n",
       "    </tr>\n",
       "    <tr>\n",
       "      <th>4</th>\n",
       "      <td>100300</td>\n",
       "      <td>990.0</td>\n",
       "    </tr>\n",
       "    <tr>\n",
       "      <th>...</th>\n",
       "      <td>...</td>\n",
       "      <td>...</td>\n",
       "    </tr>\n",
       "    <tr>\n",
       "      <th>536</th>\n",
       "      <td>5645737</td>\n",
       "      <td>1900.0</td>\n",
       "    </tr>\n",
       "    <tr>\n",
       "      <th>537</th>\n",
       "      <td>5651566</td>\n",
       "      <td>1900.0</td>\n",
       "    </tr>\n",
       "    <tr>\n",
       "      <th>538</th>\n",
       "      <td>5662322</td>\n",
       "      <td>1900.0</td>\n",
       "    </tr>\n",
       "    <tr>\n",
       "      <th>539</th>\n",
       "      <td>5681918</td>\n",
       "      <td>1900.0</td>\n",
       "    </tr>\n",
       "    <tr>\n",
       "      <th>540</th>\n",
       "      <td>5740903</td>\n",
       "      <td>1900.0</td>\n",
       "    </tr>\n",
       "  </tbody>\n",
       "</table>\n",
       "<p>541 rows × 2 columns</p>\n",
       "</div>"
      ],
      "text/plain": [
       "     student_id     rev\n",
       "0          1627   990.0\n",
       "1          3185   690.0\n",
       "2         25973   690.0\n",
       "3         26280   690.0\n",
       "4        100300   990.0\n",
       "..          ...     ...\n",
       "536     5645737  1900.0\n",
       "537     5651566  1900.0\n",
       "538     5662322  1900.0\n",
       "539     5681918  1900.0\n",
       "540     5740903  1900.0\n",
       "\n",
       "[541 rows x 2 columns]"
      ]
     },
     "execution_count": 11,
     "metadata": {},
     "output_type": "execute_result"
    }
   ],
   "source": [
    "cheks = pd.read_csv('Проект_2_checks.csv', sep = ';')\n",
    "cheks"
   ]
  },
  {
   "cell_type": "code",
   "execution_count": 12,
   "id": "7ae8a91d-3b9a-4fdf-acb4-65f78eb08503",
   "metadata": {},
   "outputs": [
    {
     "name": "stdout",
     "output_type": "stream",
     "text": [
      "<class 'pandas.core.frame.DataFrame'>\n",
      "RangeIndex: 8341 entries, 0 to 8340\n",
      "Data columns (total 1 columns):\n",
      " #   Column      Non-Null Count  Dtype\n",
      "---  ------      --------------  -----\n",
      " 0   student_id  8341 non-null   int64\n",
      "dtypes: int64(1)\n",
      "memory usage: 65.3 KB\n",
      "<class 'pandas.core.frame.DataFrame'>\n",
      "RangeIndex: 541 entries, 0 to 540\n",
      "Data columns (total 2 columns):\n",
      " #   Column      Non-Null Count  Dtype  \n",
      "---  ------      --------------  -----  \n",
      " 0   student_id  541 non-null    int64  \n",
      " 1   rev         541 non-null    float64\n",
      "dtypes: float64(1), int64(1)\n",
      "memory usage: 8.6 KB\n"
     ]
    }
   ],
   "source": [
    "active.info()\n",
    "cheks.info()"
   ]
  },
  {
   "cell_type": "markdown",
   "id": "54cb31a6-55b9-4aa7-895e-cbb885803ebc",
   "metadata": {},
   "source": [
    "Объединяем датафреймы так, что бы отображались вместе все юзеры попадающие в группы A и B и по ним были данные по покупкам"
   ]
  },
  {
   "cell_type": "code",
   "execution_count": 13,
   "id": "263448e5-d40a-4282-a5bb-4c81c87ea7e1",
   "metadata": {},
   "outputs": [
    {
     "data": {
      "text/html": [
       "<div>\n",
       "<style scoped>\n",
       "    .dataframe tbody tr th:only-of-type {\n",
       "        vertical-align: middle;\n",
       "    }\n",
       "\n",
       "    .dataframe tbody tr th {\n",
       "        vertical-align: top;\n",
       "    }\n",
       "\n",
       "    .dataframe thead th {\n",
       "        text-align: right;\n",
       "    }\n",
       "</style>\n",
       "<table border=\"1\" class=\"dataframe\">\n",
       "  <thead>\n",
       "    <tr style=\"text-align: right;\">\n",
       "      <th></th>\n",
       "      <th>student_id</th>\n",
       "      <th>grp</th>\n",
       "      <th>rev</th>\n",
       "    </tr>\n",
       "  </thead>\n",
       "  <tbody>\n",
       "    <tr>\n",
       "      <th>0</th>\n",
       "      <td>581585</td>\n",
       "      <td>A</td>\n",
       "      <td>NaN</td>\n",
       "    </tr>\n",
       "    <tr>\n",
       "      <th>1</th>\n",
       "      <td>5723133</td>\n",
       "      <td>A</td>\n",
       "      <td>NaN</td>\n",
       "    </tr>\n",
       "    <tr>\n",
       "      <th>2</th>\n",
       "      <td>3276743</td>\n",
       "      <td>B</td>\n",
       "      <td>NaN</td>\n",
       "    </tr>\n",
       "    <tr>\n",
       "      <th>3</th>\n",
       "      <td>4238589</td>\n",
       "      <td>A</td>\n",
       "      <td>NaN</td>\n",
       "    </tr>\n",
       "    <tr>\n",
       "      <th>4</th>\n",
       "      <td>4475369</td>\n",
       "      <td>B</td>\n",
       "      <td>NaN</td>\n",
       "    </tr>\n",
       "    <tr>\n",
       "      <th>...</th>\n",
       "      <td>...</td>\n",
       "      <td>...</td>\n",
       "      <td>...</td>\n",
       "    </tr>\n",
       "    <tr>\n",
       "      <th>8336</th>\n",
       "      <td>1794344</td>\n",
       "      <td>B</td>\n",
       "      <td>NaN</td>\n",
       "    </tr>\n",
       "    <tr>\n",
       "      <th>8337</th>\n",
       "      <td>296883</td>\n",
       "      <td>B</td>\n",
       "      <td>NaN</td>\n",
       "    </tr>\n",
       "    <tr>\n",
       "      <th>8338</th>\n",
       "      <td>3598448</td>\n",
       "      <td>B</td>\n",
       "      <td>NaN</td>\n",
       "    </tr>\n",
       "    <tr>\n",
       "      <th>8339</th>\n",
       "      <td>3610547</td>\n",
       "      <td>B</td>\n",
       "      <td>290.0</td>\n",
       "    </tr>\n",
       "    <tr>\n",
       "      <th>8340</th>\n",
       "      <td>205705</td>\n",
       "      <td>B</td>\n",
       "      <td>NaN</td>\n",
       "    </tr>\n",
       "  </tbody>\n",
       "</table>\n",
       "<p>8341 rows × 3 columns</p>\n",
       "</div>"
      ],
      "text/plain": [
       "      student_id grp    rev\n",
       "0         581585   A    NaN\n",
       "1        5723133   A    NaN\n",
       "2        3276743   B    NaN\n",
       "3        4238589   A    NaN\n",
       "4        4475369   B    NaN\n",
       "...          ...  ..    ...\n",
       "8336     1794344   B    NaN\n",
       "8337      296883   B    NaN\n",
       "8338     3598448   B    NaN\n",
       "8339     3610547   B  290.0\n",
       "8340      205705   B    NaN\n",
       "\n",
       "[8341 rows x 3 columns]"
      ]
     },
     "execution_count": 13,
     "metadata": {},
     "output_type": "execute_result"
    }
   ],
   "source": [
    "final_df_l = active_groups.merge(cheks, how = 'left', on = ['student_id'])\n",
    "final_df_l"
   ]
  },
  {
   "cell_type": "code",
   "execution_count": 14,
   "id": "548abe80-f63d-4e15-915a-97e277c52217",
   "metadata": {},
   "outputs": [],
   "source": [
    "final_df_l['payment'] = final_df_l['rev'].apply(lambda x: 1 if x > 0 else 0)"
   ]
  },
  {
   "cell_type": "markdown",
   "id": "450afbef-66f6-4850-97b1-935d3893dd9b",
   "metadata": {},
   "source": [
    "Смотрим сколько юзеров попало в каждую группу и сколько из них совершили покупку"
   ]
  },
  {
   "cell_type": "code",
   "execution_count": 15,
   "id": "1eb47bcf-8667-450f-9e69-de0f3b01a91e",
   "metadata": {},
   "outputs": [
    {
     "data": {
      "text/plain": [
       "student_id    1538\n",
       "grp           1538\n",
       "rev             78\n",
       "payment       1538\n",
       "dtype: int64"
      ]
     },
     "execution_count": 15,
     "metadata": {},
     "output_type": "execute_result"
    }
   ],
   "source": [
    "final_df_l[final_df_l.grp == 'A'].count()"
   ]
  },
  {
   "cell_type": "code",
   "execution_count": 16,
   "id": "8bb6ec86-a6cf-4b99-bd38-cd8250eda188",
   "metadata": {},
   "outputs": [
    {
     "data": {
      "text/plain": [
       "student_id    6803\n",
       "grp           6803\n",
       "rev            314\n",
       "payment       6803\n",
       "dtype: int64"
      ]
     },
     "execution_count": 16,
     "metadata": {},
     "output_type": "execute_result"
    }
   ],
   "source": [
    "final_df_l[final_df_l.grp == 'B'].count()"
   ]
  },
  {
   "cell_type": "markdown",
   "id": "8f991d52-790f-4372-9027-24620ecb139d",
   "metadata": {},
   "source": [
    "Меняем NaN на нули для расчетов"
   ]
  },
  {
   "cell_type": "code",
   "execution_count": 17,
   "id": "a538052a-0087-4518-8dad-894ef4c4a4db",
   "metadata": {},
   "outputs": [],
   "source": [
    "final_df_l.fillna(value = 0, inplace = True)"
   ]
  },
  {
   "cell_type": "markdown",
   "id": "ef87a5c6-5640-48b4-89a7-1cbf6c02161f",
   "metadata": {},
   "source": [
    "Смотрим общую выручку по группам"
   ]
  },
  {
   "cell_type": "code",
   "execution_count": 18,
   "id": "acccf571-b37e-4dc3-ab70-a994a8934290",
   "metadata": {},
   "outputs": [
    {
     "data": {
      "text/html": [
       "<div>\n",
       "<style scoped>\n",
       "    .dataframe tbody tr th:only-of-type {\n",
       "        vertical-align: middle;\n",
       "    }\n",
       "\n",
       "    .dataframe tbody tr th {\n",
       "        vertical-align: top;\n",
       "    }\n",
       "\n",
       "    .dataframe thead th {\n",
       "        text-align: right;\n",
       "    }\n",
       "</style>\n",
       "<table border=\"1\" class=\"dataframe\">\n",
       "  <thead>\n",
       "    <tr style=\"text-align: right;\">\n",
       "      <th></th>\n",
       "      <th>grp</th>\n",
       "      <th>rev</th>\n",
       "    </tr>\n",
       "  </thead>\n",
       "  <tbody>\n",
       "    <tr>\n",
       "      <th>0</th>\n",
       "      <td>A</td>\n",
       "      <td>72820.0000</td>\n",
       "    </tr>\n",
       "    <tr>\n",
       "      <th>1</th>\n",
       "      <td>B</td>\n",
       "      <td>394974.0035</td>\n",
       "    </tr>\n",
       "  </tbody>\n",
       "</table>\n",
       "</div>"
      ],
      "text/plain": [
       "  grp          rev\n",
       "0   A   72820.0000\n",
       "1   B  394974.0035"
      ]
     },
     "execution_count": 18,
     "metadata": {},
     "output_type": "execute_result"
    }
   ],
   "source": [
    "final_df_l.groupby('grp', as_index = False).agg({'rev':'sum'})"
   ]
  },
  {
   "cell_type": "markdown",
   "id": "18001de9-c609-4766-8c12-f200a492616b",
   "metadata": {},
   "source": [
    "Фильтруем данные по транзакциям в зависимости от группы юзера"
   ]
  },
  {
   "cell_type": "code",
   "execution_count": 19,
   "id": "b883d67a-f407-40ed-9321-0baa9bb0c251",
   "metadata": {},
   "outputs": [],
   "source": [
    "rev_A = final_df_l[final_df_l.grp == 'A'].rev\n",
    "rev_B = final_df_l[final_df_l.grp == 'B'].rev"
   ]
  },
  {
   "cell_type": "code",
   "execution_count": 20,
   "id": "e2abcb3c-2dcf-453b-8e5b-dd043255cdda",
   "metadata": {},
   "outputs": [
    {
     "data": {
      "text/plain": [
       "0       0.0\n",
       "1       0.0\n",
       "3       0.0\n",
       "7       0.0\n",
       "21      0.0\n",
       "       ... \n",
       "8317    0.0\n",
       "8320    0.0\n",
       "8326    0.0\n",
       "8330    0.0\n",
       "8334    0.0\n",
       "Name: rev, Length: 1538, dtype: float64"
      ]
     },
     "execution_count": 20,
     "metadata": {},
     "output_type": "execute_result"
    }
   ],
   "source": [
    "rev_A"
   ]
  },
  {
   "cell_type": "markdown",
   "id": "6fe39388-3fce-4621-81fc-203d863b187f",
   "metadata": {},
   "source": [
    "ARPU- метрика обозначающия средний чек на каждого юзера"
   ]
  },
  {
   "cell_type": "code",
   "execution_count": 21,
   "id": "c9a7f037-96ad-4c9c-a71e-df70be73a118",
   "metadata": {},
   "outputs": [
    {
     "data": {
      "text/html": [
       "<div>\n",
       "<style scoped>\n",
       "    .dataframe tbody tr th:only-of-type {\n",
       "        vertical-align: middle;\n",
       "    }\n",
       "\n",
       "    .dataframe tbody tr th {\n",
       "        vertical-align: top;\n",
       "    }\n",
       "\n",
       "    .dataframe thead th {\n",
       "        text-align: right;\n",
       "    }\n",
       "</style>\n",
       "<table border=\"1\" class=\"dataframe\">\n",
       "  <thead>\n",
       "    <tr style=\"text-align: right;\">\n",
       "      <th></th>\n",
       "      <th>grp</th>\n",
       "      <th>ARPU</th>\n",
       "    </tr>\n",
       "  </thead>\n",
       "  <tbody>\n",
       "    <tr>\n",
       "      <th>0</th>\n",
       "      <td>A</td>\n",
       "      <td>47.347204</td>\n",
       "    </tr>\n",
       "    <tr>\n",
       "      <th>1</th>\n",
       "      <td>B</td>\n",
       "      <td>58.058798</td>\n",
       "    </tr>\n",
       "  </tbody>\n",
       "</table>\n",
       "</div>"
      ],
      "text/plain": [
       "  grp       ARPU\n",
       "0   A  47.347204\n",
       "1   B  58.058798"
      ]
     },
     "execution_count": 21,
     "metadata": {},
     "output_type": "execute_result"
    }
   ],
   "source": [
    "final_df_l.groupby('grp', as_index = False).agg({'rev':'mean'}).rename(columns={'rev':'ARPU'})"
   ]
  },
  {
   "cell_type": "code",
   "execution_count": 22,
   "id": "ed61d710-406f-49b6-8db2-133ee122fccd",
   "metadata": {},
   "outputs": [
    {
     "data": {
      "text/html": [
       "<div>\n",
       "<style scoped>\n",
       "    .dataframe tbody tr th:only-of-type {\n",
       "        vertical-align: middle;\n",
       "    }\n",
       "\n",
       "    .dataframe tbody tr th {\n",
       "        vertical-align: top;\n",
       "    }\n",
       "\n",
       "    .dataframe thead th {\n",
       "        text-align: right;\n",
       "    }\n",
       "</style>\n",
       "<table border=\"1\" class=\"dataframe\">\n",
       "  <thead>\n",
       "    <tr style=\"text-align: right;\">\n",
       "      <th></th>\n",
       "      <th>student_id</th>\n",
       "      <th>grp</th>\n",
       "      <th>rev</th>\n",
       "      <th>payment</th>\n",
       "    </tr>\n",
       "  </thead>\n",
       "  <tbody>\n",
       "    <tr>\n",
       "      <th>0</th>\n",
       "      <td>581585</td>\n",
       "      <td>A</td>\n",
       "      <td>0.0</td>\n",
       "      <td>0</td>\n",
       "    </tr>\n",
       "    <tr>\n",
       "      <th>1</th>\n",
       "      <td>5723133</td>\n",
       "      <td>A</td>\n",
       "      <td>0.0</td>\n",
       "      <td>0</td>\n",
       "    </tr>\n",
       "    <tr>\n",
       "      <th>2</th>\n",
       "      <td>3276743</td>\n",
       "      <td>B</td>\n",
       "      <td>0.0</td>\n",
       "      <td>0</td>\n",
       "    </tr>\n",
       "    <tr>\n",
       "      <th>3</th>\n",
       "      <td>4238589</td>\n",
       "      <td>A</td>\n",
       "      <td>0.0</td>\n",
       "      <td>0</td>\n",
       "    </tr>\n",
       "    <tr>\n",
       "      <th>4</th>\n",
       "      <td>4475369</td>\n",
       "      <td>B</td>\n",
       "      <td>0.0</td>\n",
       "      <td>0</td>\n",
       "    </tr>\n",
       "    <tr>\n",
       "      <th>...</th>\n",
       "      <td>...</td>\n",
       "      <td>...</td>\n",
       "      <td>...</td>\n",
       "      <td>...</td>\n",
       "    </tr>\n",
       "    <tr>\n",
       "      <th>8336</th>\n",
       "      <td>1794344</td>\n",
       "      <td>B</td>\n",
       "      <td>0.0</td>\n",
       "      <td>0</td>\n",
       "    </tr>\n",
       "    <tr>\n",
       "      <th>8337</th>\n",
       "      <td>296883</td>\n",
       "      <td>B</td>\n",
       "      <td>0.0</td>\n",
       "      <td>0</td>\n",
       "    </tr>\n",
       "    <tr>\n",
       "      <th>8338</th>\n",
       "      <td>3598448</td>\n",
       "      <td>B</td>\n",
       "      <td>0.0</td>\n",
       "      <td>0</td>\n",
       "    </tr>\n",
       "    <tr>\n",
       "      <th>8339</th>\n",
       "      <td>3610547</td>\n",
       "      <td>B</td>\n",
       "      <td>290.0</td>\n",
       "      <td>1</td>\n",
       "    </tr>\n",
       "    <tr>\n",
       "      <th>8340</th>\n",
       "      <td>205705</td>\n",
       "      <td>B</td>\n",
       "      <td>0.0</td>\n",
       "      <td>0</td>\n",
       "    </tr>\n",
       "  </tbody>\n",
       "</table>\n",
       "<p>8341 rows × 4 columns</p>\n",
       "</div>"
      ],
      "text/plain": [
       "      student_id grp    rev  payment\n",
       "0         581585   A    0.0        0\n",
       "1        5723133   A    0.0        0\n",
       "2        3276743   B    0.0        0\n",
       "3        4238589   A    0.0        0\n",
       "4        4475369   B    0.0        0\n",
       "...          ...  ..    ...      ...\n",
       "8336     1794344   B    0.0        0\n",
       "8337      296883   B    0.0        0\n",
       "8338     3598448   B    0.0        0\n",
       "8339     3610547   B  290.0        1\n",
       "8340      205705   B    0.0        0\n",
       "\n",
       "[8341 rows x 4 columns]"
      ]
     },
     "execution_count": 22,
     "metadata": {},
     "output_type": "execute_result"
    }
   ],
   "source": [
    "final_df_l"
   ]
  },
  {
   "cell_type": "markdown",
   "id": "1eb918ff-1315-4fee-adb8-ef5bb6a48861",
   "metadata": {},
   "source": [
    "Визуально оцениваем данные распределения трат юзеров на предмет нормальности"
   ]
  },
  {
   "cell_type": "code",
   "execution_count": 23,
   "id": "179ac83f-e492-4e18-a3c2-6f1fab641c8b",
   "metadata": {},
   "outputs": [
    {
     "data": {
      "image/png": "[encoded data removed]",
      "text/plain": [
       "<Figure size 640x480 with 1 Axes>"
      ]
     },
     "metadata": {},
     "output_type": "display_data"
    }
   ],
   "source": [
    "_ = sns.histplot(rev_A, kde=True, label='Group A')\n",
    "_ = sns.histplot(rev_B, kde=True, label='Group B')\n",
    "_ = plt.legend()\n",
    "plt.show()"
   ]
  },
  {
   "cell_type": "markdown",
   "id": "91de4f44-6730-4018-a70e-99a0212918c8",
   "metadata": {},
   "source": [
    "#### ВЫВОД: Данные распределены НЕ нормально"
   ]
  },
  {
   "cell_type": "markdown",
   "id": "22f66616-0cf2-4b06-a2d5-fde459528237",
   "metadata": {},
   "source": [
    "Проверка нормальности распределения (тест Шапиро-Уилка) . Нулевая гипотеза - данные распределены нормально."
   ]
  },
  {
   "cell_type": "code",
   "execution_count": 24,
   "id": "af94b7c2-ba25-4109-89c8-7892dfbe3405",
   "metadata": {},
   "outputs": [
    {
     "name": "stdout",
     "output_type": "stream",
     "text": [
      "P-value для теста Шапиро-Уилка (группа a): 1.1139737160462887e-63\n",
      "P-value для теста Шапиро-Уилка (группа b): 2.2871845845869433e-99\n"
     ]
    },
    {
     "name": "stderr",
     "output_type": "stream",
     "text": [
      "D:\\Lib\\site-packages\\scipy\\stats\\_axis_nan_policy.py:573: UserWarning: scipy.stats.shapiro: For N > 5000, computed p-value may not be accurate. Current N is 6803.\n",
      "  res = hypotest_fun_out(*samples, **kwds)\n"
     ]
    }
   ],
   "source": [
    "\n",
    "_, p_value_shapiro_a = stats.shapiro(final_df_l[final_df_l['grp'] == 'A']['rev'])\n",
    "_, p_value_shapiro_b = stats.shapiro(final_df_l[final_df_l['grp'] == 'B']['rev'])\n",
    "\n",
    "print(\"P-value для теста Шапиро-Уилка (группа a):\", p_value_shapiro_a)\n",
    "print(\"P-value для теста Шапиро-Уилка (группа b):\", p_value_shapiro_b)"
   ]
  },
  {
   "cell_type": "markdown",
   "id": "84531908-599c-4643-9323-b3ab657794dd",
   "metadata": {},
   "source": [
    "#### ВЫВОД: так как p_value меньше 0.05, то данные распределены не нормально"
   ]
  },
  {
   "cell_type": "markdown",
   "id": "9584a0a2-7463-49ab-9095-839c50eabece",
   "metadata": {},
   "source": [
    "Смотрим распределение выручки по пользователям"
   ]
  },
  {
   "cell_type": "code",
   "execution_count": 25,
   "id": "2f2f5245-2603-49f0-8d33-fb8bdefa1707",
   "metadata": {
    "scrolled": true
   },
   "outputs": [
    {
     "data": {
      "text/plain": [
       "<Axes: ylabel='Frequency'>"
      ]
     },
     "execution_count": 25,
     "metadata": {},
     "output_type": "execute_result"
    },
    {
     "data": {
      "image/png": "[encoded data removed]",
      "text/plain": [
       "<Figure size 640x480 with 1 Axes>"
      ]
     },
     "metadata": {},
     "output_type": "display_data"
    }
   ],
   "source": [
    "rev_A.plot(kind='hist') \n"
   ]
  },
  {
   "cell_type": "code",
   "execution_count": 26,
   "id": "8f6d9646-0744-4116-af61-251eb4f82ef7",
   "metadata": {},
   "outputs": [
    {
     "data": {
      "text/plain": [
       "<Axes: ylabel='Frequency'>"
      ]
     },
     "execution_count": 26,
     "metadata": {},
     "output_type": "execute_result"
    },
    {
     "data": {
      "image/png": "[encoded data removed]",
      "text/plain": [
       "<Figure size 640x480 with 1 Axes>"
      ]
     },
     "metadata": {},
     "output_type": "display_data"
    }
   ],
   "source": [
    "rev_B.plot(kind='hist')"
   ]
  },
  {
   "cell_type": "markdown",
   "id": "6a6d8390-6fe0-44c0-9a60-d0a72c5d1117",
   "metadata": {},
   "source": [
    "Проверка гомогенности дисперсий данных (тест Левене). Нулевая гипотеза - дисперсии гомогенны. "
   ]
  },
  {
   "cell_type": "code",
   "execution_count": 27,
   "id": "34058961-d424-4bc2-a6b6-bd2090d9deef",
   "metadata": {},
   "outputs": [
    {
     "name": "stdout",
     "output_type": "stream",
     "text": [
      "Статистика: 1.5014608294336371, p-значение: 0.22048133327049668\n"
     ]
    }
   ],
   "source": [
    "\n",
    "stat, p_value = levene(rev_A, rev_B)\n",
    "\n",
    "print(f\"Статистика: {stat}, p-значение: {p_value}\")"
   ]
  },
  {
   "cell_type": "markdown",
   "id": "9a3907de-273d-4a08-8d22-fed99bf2d9ff",
   "metadata": {},
   "source": [
    "#### ВЫВОД: так как p_value > 0.05, СЛЕДОВАТЕЛЬНО ДИСПЕРСИИ РАВНЫ (ГОМОГЕННЫ)"
   ]
  },
  {
   "cell_type": "markdown",
   "id": "52c10ec3-2607-47bd-b174-8ef79d66a9e7",
   "metadata": {},
   "source": [
    "Не смотря на то, что данные распределены не нормально, у нас выборка больше 30 и t-тес применим.  Нулевая гипотеза- статистических различий между ARPPU группы a и b -нет\n"
   ]
  },
  {
   "cell_type": "code",
   "execution_count": 28,
   "id": "96d20b30-b5c3-46ec-a5b3-af7334a637c4",
   "metadata": {},
   "outputs": [
    {
     "name": "stdout",
     "output_type": "stream",
     "text": [
      "T-статистика: -1.2863738493797021\n",
      "P-value для t-теста: 0.19843583641451062\n"
     ]
    }
   ],
   "source": [
    "t_stat, p_value_t_test = stats.ttest_ind(rev_A, rev_B, equal_var=False)\n",
    "print(\"T-статистика:\", t_stat)\n",
    "print(\"P-value для t-теста:\", p_value_t_test) # P-value больше 0.05 , следовательно нулевую гипотезу не оклоняем"
   ]
  },
  {
   "cell_type": "markdown",
   "id": "fa944fc9-f13c-41ab-9707-e558e1a98732",
   "metadata": {},
   "source": [
    "#### ВЫВОД: так как P-value больше 0.05 , следовательно нулевую гипотезу не отклоняем и мы не можем сделать вывод, что ARPU для двух групп статистически различаются"
   ]
  },
  {
   "cell_type": "markdown",
   "id": "defb2d44-0199-442c-9356-67143fbea2e0",
   "metadata": {},
   "source": [
    "Фильтруем данные по транзакциям в зависимости от группы юзера и оставляем только тех юзеров кто осущесвлял транзакции"
   ]
  },
  {
   "cell_type": "code",
   "execution_count": 29,
   "id": "8b2e6cb4-5371-4766-9778-b1327d55e842",
   "metadata": {},
   "outputs": [],
   "source": [
    "rev_A_PU = final_df_l[(final_df_l['grp'] == 'A') & (final_df_l['rev'] > 0)]['rev']\n",
    "rev_B_PU = final_df_l[(final_df_l['grp'] == 'B') & (final_df_l['rev'] > 0)]['rev']"
   ]
  },
  {
   "cell_type": "code",
   "execution_count": 30,
   "id": "27b8ca59-fa87-46fd-a38c-65b10f60ac5b",
   "metadata": {},
   "outputs": [
    {
     "data": {
      "text/plain": [
       "np.int64(78)"
      ]
     },
     "execution_count": 30,
     "metadata": {},
     "output_type": "execute_result"
    }
   ],
   "source": [
    "rev_A_PU.count()"
   ]
  },
  {
   "cell_type": "markdown",
   "id": "4031a369-009b-4f61-ba66-9e7160ccc6e2",
   "metadata": {},
   "source": [
    "#### ARPPU - метрика показывающая среднюю выручку по платящим пользователям"
   ]
  },
  {
   "cell_type": "markdown",
   "id": "c0759529-8d3b-46cd-8714-22bbe3b88ff3",
   "metadata": {},
   "source": [
    "Cчитаем  ARPPU по группам "
   ]
  },
  {
   "cell_type": "code",
   "execution_count": 31,
   "id": "411bd3d2-7021-4ca0-9bed-ca524c47ca83",
   "metadata": {},
   "outputs": [
    {
     "name": "stdout",
     "output_type": "stream",
     "text": [
      "ARPPU в группе A: 933.5897435897435\n",
      "ARPPU в группе B: 1257.8789920382164\n"
     ]
    }
   ],
   "source": [
    "ARPPU_A = rev_A_PU.mean()\n",
    "ARPPU_B = rev_B_PU.mean()\n",
    "print(\"ARPPU в группе A:\", ARPPU_A)\n",
    "print(\"ARPPU в группе B:\", ARPPU_B)"
   ]
  },
  {
   "cell_type": "markdown",
   "id": "dc555c6b-089a-4359-9b6b-8774df0d8ed0",
   "metadata": {},
   "source": [
    "Проверка нормальности распределения (тест Шапиро-Уилка) . Нулевая гипотеза - данные распределены нормально. "
   ]
  },
  {
   "cell_type": "code",
   "execution_count": 32,
   "id": "b54324a5-4dad-44b9-9f6c-fc1fbb2b2abd",
   "metadata": {},
   "outputs": [
    {
     "name": "stdout",
     "output_type": "stream",
     "text": [
      "P-value для теста Шапиро-Уилка (группа a): 1.49869203824315e-10\n",
      "P-value для теста Шапиро-Уилка (группа b): 1.543336214114146e-16\n"
     ]
    }
   ],
   "source": [
    "\n",
    "_, p_value_shapiro_a = stats.shapiro(rev_A_PU)\n",
    "_, p_value_shapiro_b = stats.shapiro(rev_B_PU)\n",
    "\n",
    "print(\"P-value для теста Шапиро-Уилка (группа a):\", p_value_shapiro_a)\n",
    "print(\"P-value для теста Шапиро-Уилка (группа b):\", p_value_shapiro_b)"
   ]
  },
  {
   "cell_type": "markdown",
   "id": "de03d11d-84e4-4dee-bd51-7750fa7ee6de",
   "metadata": {},
   "source": [
    "#### ВЫВОД: так как p_value меньше 0.05 , то данные распределены не нормально"
   ]
  },
  {
   "cell_type": "markdown",
   "id": "3b4972eb-afcf-4ecb-aa32-d0964a348bf2",
   "metadata": {},
   "source": [
    "Проверка гомогенности дисперсий данных (тест Левене). Нулевая гипотеза - дисперсии гомогенны."
   ]
  },
  {
   "cell_type": "code",
   "execution_count": 33,
   "id": "ec14f5f1-1ad8-46cd-b0d3-76f37f26a8df",
   "metadata": {},
   "outputs": [
    {
     "name": "stdout",
     "output_type": "stream",
     "text": [
      "Статистика: 3.0756816999816055, p-значение: 0.08025675761347023\n"
     ]
    }
   ],
   "source": [
    "\n",
    "stat, p_value = levene(rev_A_PU, rev_B_PU)\n",
    "\n",
    "print(f\"Статистика: {stat}, p-значение: {p_value}\")"
   ]
  },
  {
   "cell_type": "markdown",
   "id": "c94a07de-a78f-4351-925b-a009daa23b44",
   "metadata": {},
   "source": [
    "#### ВЫВОД: так как p_value > 0.05, СЛЕДОВАТЕЛЬНО ДИСПЕРСИИ РАВНЫ (ГОМОГЕННЫ)"
   ]
  },
  {
   "cell_type": "markdown",
   "id": "9bf23a70-4a15-4918-82ba-8ac7709fab4e",
   "metadata": {},
   "source": [
    "Воспользуемся t-тестом. Не смотря на то, что данные распределены не нормально, у нас выборка больше 30 и t-тес применим.  Нулевая гипотеза- статистических различий между ARPPU группы a и b -нет"
   ]
  },
  {
   "cell_type": "code",
   "execution_count": 34,
   "id": "0e374ae6-3647-4d50-911f-4a033780d128",
   "metadata": {},
   "outputs": [
    {
     "name": "stdout",
     "output_type": "stream",
     "text": [
      "T-статистика: -2.8616897552694147\n",
      "P-value для t-теста: 0.005069734012800122\n"
     ]
    }
   ],
   "source": [
    "\n",
    "t_stat, p_value_t_test = stats.ttest_ind(rev_A_PU, rev_B_PU, equal_var=False)\n",
    "\n",
    "print(\"T-статистика:\", t_stat)\n",
    "print(\"P-value для t-теста:\", p_value_t_test) "
   ]
  },
  {
   "cell_type": "markdown",
   "id": "1b72003d-88f4-4b49-9217-c5d54a07bcd8",
   "metadata": {},
   "source": [
    "#### ВЫВОД: P-value меньше 0.05, следовательно нулевую гипотезу  отклоняем и  между ARPPU групп А и В есть статистически значимые различия\n",
    " "
   ]
  },
  {
   "cell_type": "markdown",
   "id": "f23d414d-6cd8-46b4-b5dd-db220fd18c94",
   "metadata": {},
   "source": [
    "### Конверсия = (Paying Users / Total Users) – доля пользователей совершивших покупку"
   ]
  },
  {
   "cell_type": "markdown",
   "id": "271b40fe-1426-46c9-83cf-0edd189bb04e",
   "metadata": {},
   "source": [
    "Считаем конверсию по группам. "
   ]
  },
  {
   "cell_type": "code",
   "execution_count": 35,
   "id": "3dfecac5-0120-4492-8d3e-7ab5628eb922",
   "metadata": {},
   "outputs": [
    {
     "data": {
      "text/plain": [
       "0.051"
      ]
     },
     "execution_count": 35,
     "metadata": {},
     "output_type": "execute_result"
    }
   ],
   "source": [
    "Conversion_A = round(int(rev_A_PU.count()) / int(rev_A.count()), 3)\n",
    "                \n",
    "Conversion_A"
   ]
  },
  {
   "cell_type": "code",
   "execution_count": 36,
   "id": "360bbbe0-134c-4cb2-996e-07b25cd57cc5",
   "metadata": {},
   "outputs": [
    {
     "data": {
      "text/plain": [
       "0.046"
      ]
     },
     "execution_count": 36,
     "metadata": {},
     "output_type": "execute_result"
    }
   ],
   "source": [
    "Conversion_B = round(int(rev_B_PU.count()) / int(rev_B.count()),3)\n",
    "Conversion_B"
   ]
  },
  {
   "cell_type": "markdown",
   "id": "c39787cb-ce58-49da-9ba3-4276def7b10f",
   "metadata": {},
   "source": [
    "Используем z-test  Нулевая гипотеза - стат. значимых различий  нет."
   ]
  },
  {
   "cell_type": "code",
   "execution_count": 37,
   "id": "840803ca-3d35-4f2e-a4e4-199c2188ecf3",
   "metadata": {},
   "outputs": [
    {
     "name": "stdout",
     "output_type": "stream",
     "text": [
      "Z-test for proportions: z-statistic=0.7629884495263746, p-value=0.445470284371589\n"
     ]
    }
   ],
   "source": [
    "count = [len(rev_A_PU), len(rev_B_PU)] \n",
    "nobs = [len(rev_A), len(rev_B)]\n",
    "z_stat, p_value = proportions_ztest(count, nobs)\n",
    "print(f'Z-test for proportions: z-statistic={z_stat}, p-value={p_value}') "
   ]
  },
  {
   "cell_type": "markdown",
   "id": "635bfe78-a0bd-4901-86db-5220e8f299b4",
   "metadata": {},
   "source": [
    "#### ВЫВОД: так как p-value больше 0.05,  нулевую гипотезу не отвергаем и делаем вывод, чтомежду группами А и B нет стат значимых различий в части конверсий"
   ]
  },
  {
   "cell_type": "markdown",
   "id": "a4128bac-bbc2-43e0-9843-994fbc8c7ecc",
   "metadata": {},
   "source": [
    "### ОСНОВНОЙ ВЫВОД: так как между группами были обнаружены статистически значимые различия в части ARPPU и в группе B ARPPU больше, можно сделать вывод,что в группе B механника оплаты лучше."
   ]
  },
  {
   "cell_type": "markdown",
   "id": "ee191f69-693c-4815-ac64-db40b86a81b0",
   "metadata": {},
   "source": [
    "## Решение проекта с помощью бутстрапа и функции"
   ]
  },
  {
   "cell_type": "code",
   "execution_count": 38,
   "id": "cc367a48-4b52-498f-9023-e8fef77cb42d",
   "metadata": {},
   "outputs": [],
   "source": [
    "# функция для проверки гипотез с помощью бутстрапа\n",
    "def get_bootstrap(\n",
    "    data_column_1,                       # числовые значения первой (контрольной) выборки\n",
    "    data_column_2,                       # числовые значения второй (тестовой) выборки\n",
    "    boot_it = 5000,                      # количество бутстрэп-подвыборок\n",
    "    statistic = np.mean,                 # интересующая нас статистика\n",
    "    bootstrap_conf_level = 0.95          # уровень значимост\n",
    "    ):\n",
    "    boot_len  = max([len(data_column_1), len(data_column_2)])\n",
    "    boot_data = []\n",
    "    \n",
    "    for i in range(boot_it):        # извлекаем подвыборки\n",
    "        samples_1 = data_column_1.sample(\n",
    "            boot_len, \n",
    "            replace = True                        # параметр возвращения\n",
    "        ).values\n",
    "        \n",
    "        samples_2 = data_column_2.sample(\n",
    "            boot_len, \n",
    "            replace = True\n",
    "        ).values\n",
    "        \n",
    "        samples_delta = samples_2 - samples_1      # находим разницу подвыборок\n",
    "        boot_data.append(statistic(samples_delta)) # применяем статистику для разниц подвыборок\n",
    "        \n",
    "    pd_boot_data = pd.DataFrame(boot_data)\n",
    "\n",
    "    # доверительный интервал\n",
    "    # left_quant: Вычисляется левая граница доверительного интервала.\n",
    "    # right_quant: Вычисляется правая граница доверительного интервала.\n",
    "    # ci: Вычисляется доверительный интервал с использованием квантилей left_quant и right_quant.\n",
    "    left_quant  = (1 - bootstrap_conf_level)/2\n",
    "    right_quant = 1 - (1 - bootstrap_conf_level) / 2\n",
    "    ci = pd_boot_data.quantile([left_quant, right_quant])\n",
    "    return  ci\n",
    "  "
   ]
  },
  {
   "cell_type": "code",
   "execution_count": 39,
   "id": "61d0433d-9874-4040-868a-b7ed356f8be2",
   "metadata": {},
   "outputs": [],
   "source": [
    "def cr_func(x):\n",
    "    '''\n",
    "    CR\n",
    "    Для корректной работы функции в качестве аргумента y \n",
    "    необходимо передать серию со значениями 1 и 0, или True и False,\n",
    "    в соответствие с тем произошло ожидаемое событие или нет.\n",
    "    '''\n",
    "    return sum(x) / len(x)\n",
    "\n",
    "def arpu_func(y):\n",
    "    '''\n",
    "    ARPU\n",
    "    Для корректной работы функции в качестве аргумента y \n",
    "    необходимо передать серию, где все NaN-значения заменнены на нули\n",
    "    '''\n",
    "    return np.mean(y)\n",
    "\n",
    "def arppu_func(y):\n",
    "    '''\n",
    "    ARPPU\n",
    "    Для корректной работы функции в качестве аргумента y \n",
    "    необходимо передать серию, где отобраны только платежи, т.е. отфильтрованы нули\n",
    "    или вместо нулей стоят NaN.\n",
    "    '''\n",
    "    return np.mean(y)"
   ]
  },
  {
   "cell_type": "markdown",
   "id": "b6c9e757-3810-43a3-b5e0-3845055d3133",
   "metadata": {},
   "source": [
    "### ARPU\n",
    "Сформулируем нулевую и альтернативную гипотезы:\n",
    "\n",
    "* `H0`: ARPU в двух группах одинаковые.\n",
    "* `H1`: ARPU в двух группах различаются."
   ]
  },
  {
   "cell_type": "code",
   "execution_count": 40,
   "id": "bdbf769d-0584-4ba1-a2af-f29697259983",
   "metadata": {},
   "outputs": [
    {
     "data": {
      "text/html": [
       "<div>\n",
       "<style scoped>\n",
       "    .dataframe tbody tr th:only-of-type {\n",
       "        vertical-align: middle;\n",
       "    }\n",
       "\n",
       "    .dataframe tbody tr th {\n",
       "        vertical-align: top;\n",
       "    }\n",
       "\n",
       "    .dataframe thead th {\n",
       "        text-align: right;\n",
       "    }\n",
       "</style>\n",
       "<table border=\"1\" class=\"dataframe\">\n",
       "  <thead>\n",
       "    <tr style=\"text-align: right;\">\n",
       "      <th></th>\n",
       "      <th>0</th>\n",
       "    </tr>\n",
       "  </thead>\n",
       "  <tbody>\n",
       "    <tr>\n",
       "      <th>0.025</th>\n",
       "      <td>0.825169</td>\n",
       "    </tr>\n",
       "    <tr>\n",
       "      <th>0.975</th>\n",
       "      <td>20.695613</td>\n",
       "    </tr>\n",
       "  </tbody>\n",
       "</table>\n",
       "</div>"
      ],
      "text/plain": [
       "               0\n",
       "0.025   0.825169\n",
       "0.975  20.695613"
      ]
     },
     "execution_count": 40,
     "metadata": {},
     "output_type": "execute_result"
    }
   ],
   "source": [
    "get_bootstrap(rev_A, rev_B, statistic = arpu_func)"
   ]
  },
  {
   "cell_type": "markdown",
   "id": "432035c8-c915-4fdd-a90f-d7906d719bca",
   "metadata": {},
   "source": [
    "Доверительный интервал **не попадает в 0**, отвергаем нулевую гипотезу. ARPU в двух группах различаются."
   ]
  },
  {
   "cell_type": "markdown",
   "id": "e51a72b3-9443-4562-9615-936c307465ca",
   "metadata": {},
   "source": [
    "### ARPPU\n",
    "Сформулируем нулевую и альтернативную гипотезы:\n",
    "\n",
    "* `H0`: ARPPU в двух группах одинаковые.\n",
    "* `H1`: ARPPU в двух группах различаются."
   ]
  },
  {
   "cell_type": "code",
   "execution_count": 41,
   "id": "11614544-8530-4fd4-b5af-fa1d0fd7ab5d",
   "metadata": {},
   "outputs": [
    {
     "data": {
      "text/html": [
       "<div>\n",
       "<style scoped>\n",
       "    .dataframe tbody tr th:only-of-type {\n",
       "        vertical-align: middle;\n",
       "    }\n",
       "\n",
       "    .dataframe tbody tr th {\n",
       "        vertical-align: top;\n",
       "    }\n",
       "\n",
       "    .dataframe thead th {\n",
       "        text-align: right;\n",
       "    }\n",
       "</style>\n",
       "<table border=\"1\" class=\"dataframe\">\n",
       "  <thead>\n",
       "    <tr style=\"text-align: right;\">\n",
       "      <th></th>\n",
       "      <th>0</th>\n",
       "    </tr>\n",
       "  </thead>\n",
       "  <tbody>\n",
       "    <tr>\n",
       "      <th>0.025</th>\n",
       "      <td>188.720551</td>\n",
       "    </tr>\n",
       "    <tr>\n",
       "      <th>0.975</th>\n",
       "      <td>460.485918</td>\n",
       "    </tr>\n",
       "  </tbody>\n",
       "</table>\n",
       "</div>"
      ],
      "text/plain": [
       "                0\n",
       "0.025  188.720551\n",
       "0.975  460.485918"
      ]
     },
     "execution_count": 41,
     "metadata": {},
     "output_type": "execute_result"
    }
   ],
   "source": [
    "get_bootstrap(rev_A_PU, rev_B_PU, statistic = arppu_func)"
   ]
  },
  {
   "cell_type": "markdown",
   "id": "f825786a-249b-41bf-880c-cd2b9c07f41c",
   "metadata": {},
   "source": [
    "Доверительный интервал **не попадает в 0**, отвергаем нулевую гипотезу. ARPPU в двух группах различаются."
   ]
  },
  {
   "cell_type": "markdown",
   "id": "dfed7ab4-ea64-4ed1-9832-176aa48d9dae",
   "metadata": {},
   "source": [
    "### CR\n",
    "\n",
    "Сформулируем нулевую и альтернативную гипотезы:\n",
    "\n",
    "* `H0`: CR в двух группах одинаковые.\n",
    "* `H1`: CR в двух группах различаются."
   ]
  },
  {
   "cell_type": "code",
   "execution_count": 42,
   "id": "a40d0ac5-9149-464d-8357-b8f0e4868422",
   "metadata": {},
   "outputs": [
    {
     "data": {
      "text/html": [
       "<div>\n",
       "<style scoped>\n",
       "    .dataframe tbody tr th:only-of-type {\n",
       "        vertical-align: middle;\n",
       "    }\n",
       "\n",
       "    .dataframe tbody tr th {\n",
       "        vertical-align: top;\n",
       "    }\n",
       "\n",
       "    .dataframe thead th {\n",
       "        text-align: right;\n",
       "    }\n",
       "</style>\n",
       "<table border=\"1\" class=\"dataframe\">\n",
       "  <thead>\n",
       "    <tr style=\"text-align: right;\">\n",
       "      <th></th>\n",
       "      <th>0</th>\n",
       "    </tr>\n",
       "  </thead>\n",
       "  <tbody>\n",
       "    <tr>\n",
       "      <th>0.025</th>\n",
       "      <td>-0.011907</td>\n",
       "    </tr>\n",
       "    <tr>\n",
       "      <th>0.975</th>\n",
       "      <td>0.002646</td>\n",
       "    </tr>\n",
       "  </tbody>\n",
       "</table>\n",
       "</div>"
      ],
      "text/plain": [
       "              0\n",
       "0.025 -0.011907\n",
       "0.975  0.002646"
      ]
     },
     "execution_count": 42,
     "metadata": {},
     "output_type": "execute_result"
    }
   ],
   "source": [
    "\n",
    "get_bootstrap(final_df_l.payment[final_df_l.grp=='A'], final_df_l.payment[final_df_l.grp=='B'], statistic = cr_func)"
   ]
  },
  {
   "cell_type": "markdown",
   "id": "9ebc1a81-9b94-4268-9be4-9ed170159da1",
   "metadata": {},
   "source": [
    "Доверительный интервал **попадает в 0**, недостаточно оснований отвергнуть нулевую гипотезу. Нельзя утверждать, что различия CR в двух группах есть."
   ]
  },
  {
   "cell_type": "markdown",
   "id": "6f360bb6-ff63-4374-8346-d7c8103efa9a",
   "metadata": {},
   "source": [
    "### ОСНОВНОЙ ВЫВОД: Новая механика оплаты даёт статистически значимый прирост в метриках ARPU и ARPPU, отрицательное изменение метрики CR не подтвердилось."
   ]
  },
  {
   "cell_type": "markdown",
   "id": "38ca30e8-a011-405a-a297-d91d709ca56a",
   "metadata": {},
   "source": [
    "### Задание 2. SQL\n",
    "###  2.1 Очень усердные ученики.\n",
    "\n",
    "### 2.1.1 Условие\n",
    "\n",
    "Образовательные курсы состоят из различных уроков, каждый из которых состоит из нескольких маленьких заданий. Каждое такое маленькое задание называется \"горошиной\".\n",
    "\n",
    "Назовём очень усердным учеником того пользователя, который хотя бы раз за текущий месяц правильно решил 20 горошин.\n",
    "\n",
    "### 2.1.2 Задача\n",
    "\n",
    "Дана таблица default.peas. :\n",
    "\n",
    "Название атрибута Тип атрибута Смысловое значение\n",
    "\n",
    "- `st_id` *int* ID ученика\n",
    "\n",
    "- `timest` *timestamp* Время решения карточки\n",
    "\n",
    "- `correct` *bool* Правильно ли решена горошина?\n",
    "\n",
    "- `subject` *text* Дисциплина, в которой находится горошина\n",
    "\n",
    "\n",
    "\n",
    "#### Необходимо написать оптимальный запрос, который даст информацию о количестве очень усердных студентов.NB! Под усердным студентом мы понимаем студента, который правильно решил 20 задач за текущий месяц."
   ]
  },
  {
   "cell_type": "markdown",
   "id": "41929610-c905-4ed9-8fe7-42ceecca9f03",
   "metadata": {},
   "source": [
    "#### Решение"
   ]
  },
  {
   "cell_type": "markdown",
   "id": "d9923bbd-e0d0-41ed-83ca-0e2c3e98f3e4",
   "metadata": {},
   "source": [
    "Используем данные для подключения к БД (имя сервера, логин, пароль) для подключения к серверу. В качестве файла для хранения будем использовать файл для переменных среды с рашсирением `.env`."
   ]
  },
  {
   "cell_type": "code",
   "execution_count": 89,
   "id": "9dea3de1-f477-439b-b2a6-0389ce54b669",
   "metadata": {},
   "outputs": [
    {
     "data": {
      "text/plain": [
       "True"
      ]
     },
     "execution_count": 89,
     "metadata": {},
     "output_type": "execute_result"
    }
   ],
   "source": [
    "DOTENV_PATH = '.env'\n",
    "load_dotenv(DOTENV_PATH)"
   ]
  },
  {
   "cell_type": "markdown",
   "id": "a09c0c20-d24d-4243-a060-1e324a0a8881",
   "metadata": {},
   "source": [
    "Подгружаем соотвествующие переменные из файла .env"
   ]
  },
  {
   "cell_type": "code",
   "execution_count": 90,
   "id": "73d81f1a-b533-4171-85c0-f7f9e6a3d443",
   "metadata": {},
   "outputs": [],
   "source": [
    "SERVER_NAME = os.getenv(\"SERVER_NAME\")\n",
    "USER_NAME = os.getenv(\"USER_NAME\")\n",
    "PASSWORD_DATA = os.getenv(\"PASSWORD_DATA\")"
   ]
  },
  {
   "cell_type": "markdown",
   "id": "d85d007e-e32a-435b-a852-c57f25d32f0b",
   "metadata": {},
   "source": [
    "Создадим подключение к ClickHouse:"
   ]
  },
  {
   "cell_type": "code",
   "execution_count": 91,
   "id": "eb0b7df9-bb46-43da-a034-e3d00687c4d9",
   "metadata": {},
   "outputs": [],
   "source": [
    "def create_clickhouse_client(server_name: str, user_name: str, password_data: str) -> Client:\n",
    "    \"\"\"Create ClickHouse client object for reading data\n",
    "\n",
    "    Args:\n",
    "        server_name (str): ClickHouse server name\n",
    "        user_name (str): ClickHouse username\n",
    "        password_data (str): ClickHouse password data\n",
    "\n",
    "    Returns:\n",
    "        Client: ClickHouse client object\n",
    "    \"\"\"\n",
    "    clickhouse_client = Client(server_name, user=user_name, password=password_data)\n",
    "    return clickhouse_client"
   ]
  },
  {
   "cell_type": "code",
   "execution_count": 92,
   "id": "98d409ed-bf8d-41cf-a110-49fdeed938ce",
   "metadata": {},
   "outputs": [
    {
     "data": {
      "text/plain": [
       "<clickhouse_driver.client.Client at 0x1fddec174d0>"
      ]
     },
     "execution_count": 92,
     "metadata": {},
     "output_type": "execute_result"
    }
   ],
   "source": [
    "client_ch = create_clickhouse_client(SERVER_NAME, USER_NAME, PASSWORD_DATA)\n",
    "client_ch"
   ]
  },
  {
   "cell_type": "markdown",
   "id": "7292ca4c-957d-457c-ab58-a74ab51481b0",
   "metadata": {},
   "source": [
    "Создадим функцию чтения данных из БД."
   ]
  },
  {
   "cell_type": "code",
   "execution_count": 93,
   "id": "d91ea9e2-9089-48ca-99d3-ab46202b5c82",
   "metadata": {},
   "outputs": [],
   "source": [
    "def read_data_from_clickhouse(client_connection: Client,\n",
    "                              query: str) -> pd.DataFrame:\n",
    "    \"\"\"Read data from Clcikhouse table by query\n",
    "\n",
    "    Args:\n",
    "        client_connection (Cleint): ClickHouse cleint connection\n",
    "        query (str): SQL query text to get data from ClickHouse\n",
    "\n",
    "    Returns:\n",
    "        pd.DataFrame: result query DataFrame with data\n",
    "    \"\"\"\n",
    "    data = client_connection.query_dataframe(query)\n",
    "    return data"
   ]
  },
  {
   "cell_type": "markdown",
   "id": "d210001c-c994-421d-98cc-7812fe65a4cd",
   "metadata": {},
   "source": [
    "Выясним диапазон дат в нашем датасете:"
   ]
  },
  {
   "cell_type": "code",
   "execution_count": 94,
   "id": "7f1022ab-e72a-45f1-8ed2-58be51a82252",
   "metadata": {},
   "outputs": [],
   "source": [
    "date_query = '''\n",
    "     SELECT MIN(toDate(timest)),\n",
    "            MAX(toDate(timest))\n",
    "       FROM peas;\n",
    "     '''"
   ]
  },
  {
   "cell_type": "markdown",
   "id": "750c736e-4dee-49bf-847d-7e3c8a9d21f5",
   "metadata": {},
   "source": [
    "Выполним запрос."
   ]
  },
  {
   "cell_type": "code",
   "execution_count": 95,
   "id": "63b10e5c-2574-408b-9e56-0022a9184484",
   "metadata": {},
   "outputs": [
    {
     "data": {
      "text/html": [
       "<div>\n",
       "<style scoped>\n",
       "    .dataframe tbody tr th:only-of-type {\n",
       "        vertical-align: middle;\n",
       "    }\n",
       "\n",
       "    .dataframe tbody tr th {\n",
       "        vertical-align: top;\n",
       "    }\n",
       "\n",
       "    .dataframe thead th {\n",
       "        text-align: right;\n",
       "    }\n",
       "</style>\n",
       "<table border=\"1\" class=\"dataframe\">\n",
       "  <thead>\n",
       "    <tr style=\"text-align: right;\">\n",
       "      <th></th>\n",
       "      <th>min_toDate_timest__</th>\n",
       "      <th>max_toDate_timest__</th>\n",
       "    </tr>\n",
       "  </thead>\n",
       "  <tbody>\n",
       "    <tr>\n",
       "      <th>0</th>\n",
       "      <td>2021-10-30</td>\n",
       "      <td>2021-10-31</td>\n",
       "    </tr>\n",
       "  </tbody>\n",
       "</table>\n",
       "</div>"
      ],
      "text/plain": [
       "  min_toDate_timest__ max_toDate_timest__\n",
       "0          2021-10-30          2021-10-31"
      ]
     },
     "execution_count": 95,
     "metadata": {},
     "output_type": "execute_result"
    }
   ],
   "source": [
    "date_data = read_data_from_clickhouse(client_ch, date_query)\n",
    "date_data"
   ]
  },
  {
   "cell_type": "markdown",
   "id": "d1316134-cdce-4bd9-a143-258e86af851b",
   "metadata": {},
   "source": [
    "Сформируем итоговый запрос."
   ]
  },
  {
   "cell_type": "code",
   "execution_count": 96,
   "id": "05e07fa5-a2ea-4156-b8c2-8a82c4213bd4",
   "metadata": {},
   "outputs": [],
   "source": [
    "hard_students_query = \"\"\"SELECT\n",
    "        COUNT(DISTINCT st_id) AS good_students_count\n",
    "    FROM\n",
    "    (\n",
    "        SELECT\n",
    "            st_id,\n",
    "            toStartOfMonth(timest) AS month\n",
    "        FROM default.peas\n",
    "        WHERE correct = 1\n",
    "        and toStartOfMonth(timest) = '2021-10-01'\n",
    "        GROUP BY st_id, month\n",
    "        HAVING COUNT(*) >= 20\n",
    "    );\"\"\""
   ]
  },
  {
   "cell_type": "code",
   "execution_count": 97,
   "id": "3bf97dbf-5794-47b9-aca2-44112df45550",
   "metadata": {},
   "outputs": [
    {
     "data": {
      "text/html": [
       "<div>\n",
       "<style scoped>\n",
       "    .dataframe tbody tr th:only-of-type {\n",
       "        vertical-align: middle;\n",
       "    }\n",
       "\n",
       "    .dataframe tbody tr th {\n",
       "        vertical-align: top;\n",
       "    }\n",
       "\n",
       "    .dataframe thead th {\n",
       "        text-align: right;\n",
       "    }\n",
       "</style>\n",
       "<table border=\"1\" class=\"dataframe\">\n",
       "  <thead>\n",
       "    <tr style=\"text-align: right;\">\n",
       "      <th></th>\n",
       "      <th>good_students_count</th>\n",
       "    </tr>\n",
       "  </thead>\n",
       "  <tbody>\n",
       "    <tr>\n",
       "      <th>0</th>\n",
       "      <td>136</td>\n",
       "    </tr>\n",
       "  </tbody>\n",
       "</table>\n",
       "</div>"
      ],
      "text/plain": [
       "   good_students_count\n",
       "0                  136"
      ]
     },
     "execution_count": 97,
     "metadata": {},
     "output_type": "execute_result"
    }
   ],
   "source": [
    "hard_work_stud_data = read_data_from_clickhouse(client_ch, hard_students_query)\n",
    "hard_work_stud_data"
   ]
  },
  {
   "cell_type": "code",
   "execution_count": null,
   "id": "fae830be-58d8-4d30-8642-b2a772948f8d",
   "metadata": {},
   "outputs": [],
   "source": []
  },
  {
   "cell_type": "markdown",
   "id": "8f1133e1-1f97-46d4-997b-349ffb800645",
   "metadata": {},
   "source": [
    "### 2.2 Оптимизация воронки\n",
    "\n",
    "### 2.2.1 Условие\n",
    "\n",
    "Образовательная платформа предлагает пройти студентам курсы по модели trial: студент может решить бесплатно лишь 30 горошин в день. Для неограниченного количества заданий в определенной дисциплине студенту необходимо приобрести полный доступ. Команда провела эксперимент, где был протестирован новый экран оплаты.\n",
    "\n",
    "### 2.2.2 Задача\n",
    "\n",
    "Дана таблицы: default.peas (см. выше), \n",
    "Для таблицы __default.studs__:\n",
    "\n",
    "Название атрибута Тип атрибута Смысловое значение\n",
    "- `st_id` *int*  ID ученика\n",
    "\n",
    "- `test_grp` *text*  Метка ученика в данном эксперименте\n",
    "\n",
    "\n",
    "и default.final_project_check:\n",
    "Название атрибута Тип атрибута Смысловое значение\n",
    "\n",
    "- `st_id` *int*  ID ученика\n",
    "\n",
    "- `sale_time` *timestamp* Время покупки\n",
    "\n",
    "- `money` *int* Цена, по которой приобрели данный курс\n",
    "\n",
    "\n",
    "### Необходимо в одном запросе выгрузить следующую информацию о группах пользователей:\n",
    "\n",
    "ARPU \n",
    "ARPAU \n",
    "CR в покупку \n",
    "СR активного пользователя в покупку \n",
    "CR пользователя из активности по математике (subject = ’math’) в покупку курса по математике\n",
    "ARPU считается относительно всех пользователей, попавших в группы.\n",
    "\n",
    "Активным считается пользователь, за все время решивший больше 10 задач правильно в любых дисциплинах.\n",
    "\n",
    "Активным по математике считается пользователь, за все время решивший 2 или больше задач правильно по математике."
   ]
  },
  {
   "cell_type": "code",
   "execution_count": 98,
   "id": "f1c021ad-35c9-4c14-a92e-3e1621f020b8",
   "metadata": {},
   "outputs": [],
   "source": [
    "metrics_for_funnel_query = \"\"\"SELECT\n",
    "    s.test_grp,\n",
    "    ROUND(SUM(f.money) / NULLIF(COUNT(DISTINCT s.st_id), 0), 2) AS ARPU,\n",
    "    ROUND(SUM(CASE WHEN podz.Score > 10 THEN f.money ELSE 0 END) / NULLIF(COUNT(DISTINCT CASE WHEN podz.Score > 10 THEN podz.st_id END), 0), 2) AS ARPAU,\n",
    "    ROUND(COUNT(DISTINCT CASE WHEN f.money > 0 THEN s.st_id END) / NULLIF(COUNT(DISTINCT s.st_id), 0), 2) AS CR,\n",
    "    ROUND(COUNT(DISTINCT CASE WHEN f.money > 0 AND podz.Score > 10 THEN podz.st_id END) / NULLIF(COUNT(DISTINCT CASE WHEN podz.Score > 10 THEN podz.st_id END), 0), 2) AS CR_action,\n",
    "    ROUND(COUNT(DISTINCT CASE WHEN podz.Score_math >= 2 AND f.subject = 'Math'   AND f.money > 0 THEN podz.st_id END) / NULLIF(COUNT(DISTINCT CASE WHEN podz.Score_math >= 2 THEN podz.st_id END), 0), 2) AS CR_math\n",
    "FROM\n",
    "default.studs s\n",
    "LEFT JOIN\n",
    "    (SELECT \n",
    "        st_id,\n",
    "        SUM(correct) AS Score,\n",
    "        SUM(CASE WHEN subject = 'Math' THEN correct ELSE 0 END) AS Score_math\n",
    "     FROM \n",
    "        default.peas\n",
    "     GROUP BY \n",
    "        st_id) AS podz  ON s.st_id = podz.st_id \n",
    "LEFT JOIN \n",
    "    default.final_project_check f ON s.st_id = f.st_id\n",
    "GROUP BY \n",
    "    s.test_grp;\n",
    "\"\"\""
   ]
  },
  {
   "cell_type": "code",
   "execution_count": 99,
   "id": "2a1ff487-ae21-4a51-8ba4-07271428bdc0",
   "metadata": {},
   "outputs": [
    {
     "data": {
      "text/html": [
       "<div>\n",
       "<style scoped>\n",
       "    .dataframe tbody tr th:only-of-type {\n",
       "        vertical-align: middle;\n",
       "    }\n",
       "\n",
       "    .dataframe tbody tr th {\n",
       "        vertical-align: top;\n",
       "    }\n",
       "\n",
       "    .dataframe thead th {\n",
       "        text-align: right;\n",
       "    }\n",
       "</style>\n",
       "<table border=\"1\" class=\"dataframe\">\n",
       "  <thead>\n",
       "    <tr style=\"text-align: right;\">\n",
       "      <th></th>\n",
       "      <th>s_test_grp</th>\n",
       "      <th>ARPU</th>\n",
       "      <th>ARPAU</th>\n",
       "      <th>CR</th>\n",
       "      <th>CR_action</th>\n",
       "      <th>CR_math</th>\n",
       "    </tr>\n",
       "  </thead>\n",
       "  <tbody>\n",
       "    <tr>\n",
       "      <th>0</th>\n",
       "      <td>control</td>\n",
       "      <td>4540.98</td>\n",
       "      <td>10393.70</td>\n",
       "      <td>0.05</td>\n",
       "      <td>0.11</td>\n",
       "      <td>0.06</td>\n",
       "    </tr>\n",
       "    <tr>\n",
       "      <th>1</th>\n",
       "      <td>pilot</td>\n",
       "      <td>11508.47</td>\n",
       "      <td>29739.58</td>\n",
       "      <td>0.11</td>\n",
       "      <td>0.26</td>\n",
       "      <td>0.10</td>\n",
       "    </tr>\n",
       "  </tbody>\n",
       "</table>\n",
       "</div>"
      ],
      "text/plain": [
       "  s_test_grp      ARPU     ARPAU    CR  CR_action  CR_math\n",
       "0    control   4540.98  10393.70  0.05       0.11     0.06\n",
       "1      pilot  11508.47  29739.58  0.11       0.26     0.10"
      ]
     },
     "execution_count": 99,
     "metadata": {},
     "output_type": "execute_result"
    }
   ],
   "source": [
    "metrics_for_funnel_data = read_data_from_clickhouse(client_ch, metrics_for_funnel_query)\n",
    "metrics_for_funnel_data"
   ]
  },
  {
   "cell_type": "code",
   "execution_count": 102,
   "id": "b1279a72-7867-45a9-9608-ab9707eb0c30",
   "metadata": {},
   "outputs": [],
   "source": [
    "def plot_funnel_metrics(metrics_data):\n",
    "    \"\"\"\n",
    "    Отрисовывает метрики из датасета metrics_data для тестовой и контрольной групп на отдельных графиках.\n",
    "\n",
    "    Параметры:\n",
    "    metrics_data (pd.DataFrame): DataFrame, содержащий метрики в разрезе тестовой и контрольной групп.\n",
    "\n",
    "    Возвращает:\n",
    "    None\n",
    "    \"\"\"\n",
    "    # Проверяем, что DataFrame содержит нужные столбцы\n",
    "    required_columns = ['s_test_grp', 'ARPU', 'ARPAU', 'CR', 'CR_action', 'CR_math']\n",
    "    if not all(column in metrics_data.columns for column in required_columns):\n",
    "        raise ValueError(f\"DataFrame должен содержать столбцы: {', '.join(required_columns)}\")\n",
    "\n",
    "    # Определяем количество метрик\n",
    "    metrics = ['ARPU', 'ARPAU', 'CR', 'CR_action', 'CR_math']\n",
    "    num_metrics = len(metrics)\n",
    "\n",
    "    # Создаем фигуру и оси для каждой метрики\n",
    "    fig, axes = plt.subplots(nrows=1, ncols=num_metrics, figsize=(20, 5))\n",
    "\n",
    "    # Отрисовываем каждую метрику на отдельном графике\n",
    "    for i, metric in enumerate(metrics):\n",
    "        sns.barplot(x='s_test_grp', y=metric, data=metrics_data, ax=axes[i], palette='Set2')\n",
    "        axes[i].set_title(metric, fontsize=14)\n",
    "        axes[i].set_xlabel('Группа', fontsize=12)\n",
    "        axes[i].set_ylabel('Значение', fontsize=12)\n",
    "\n",
    "    # Общий заголовок для всех графиков\n",
    "    fig.suptitle('Метрики для тестовой и контрольной групп', fontsize=16)\n",
    "\n",
    "    # Отображаем график\n",
    "    plt.tight_layout()\n",
    "    plt.show()"
   ]
  },
  {
   "cell_type": "code",
   "execution_count": 103,
   "id": "f47c78a7-dea8-400a-b18d-cd192771066a",
   "metadata": {},
   "outputs": [
    {
     "name": "stderr",
     "output_type": "stream",
     "text": [
      "C:\\Users\\Анна\\AppData\\Local\\Temp\\ipykernel_8064\\2763575115.py:25: FutureWarning: \n",
      "\n",
      "Passing `palette` without assigning `hue` is deprecated and will be removed in v0.14.0. Assign the `x` variable to `hue` and set `legend=False` for the same effect.\n",
      "\n",
      "  sns.barplot(x='s_test_grp', y=metric, data=metrics_data, ax=axes[i], palette='Set2')\n",
      "C:\\Users\\Анна\\AppData\\Local\\Temp\\ipykernel_8064\\2763575115.py:25: FutureWarning: \n",
      "\n",
      "Passing `palette` without assigning `hue` is deprecated and will be removed in v0.14.0. Assign the `x` variable to `hue` and set `legend=False` for the same effect.\n",
      "\n",
      "  sns.barplot(x='s_test_grp', y=metric, data=metrics_data, ax=axes[i], palette='Set2')\n",
      "C:\\Users\\Анна\\AppData\\Local\\Temp\\ipykernel_8064\\2763575115.py:25: FutureWarning: \n",
      "\n",
      "Passing `palette` without assigning `hue` is deprecated and will be removed in v0.14.0. Assign the `x` variable to `hue` and set `legend=False` for the same effect.\n",
      "\n",
      "  sns.barplot(x='s_test_grp', y=metric, data=metrics_data, ax=axes[i], palette='Set2')\n",
      "C:\\Users\\Анна\\AppData\\Local\\Temp\\ipykernel_8064\\2763575115.py:25: FutureWarning: \n",
      "\n",
      "Passing `palette` without assigning `hue` is deprecated and will be removed in v0.14.0. Assign the `x` variable to `hue` and set `legend=False` for the same effect.\n",
      "\n",
      "  sns.barplot(x='s_test_grp', y=metric, data=metrics_data, ax=axes[i], palette='Set2')\n",
      "C:\\Users\\Анна\\AppData\\Local\\Temp\\ipykernel_8064\\2763575115.py:25: FutureWarning: \n",
      "\n",
      "Passing `palette` without assigning `hue` is deprecated and will be removed in v0.14.0. Assign the `x` variable to `hue` and set `legend=False` for the same effect.\n",
      "\n",
      "  sns.barplot(x='s_test_grp', y=metric, data=metrics_data, ax=axes[i], palette='Set2')\n"
     ]
    },
    {
     "data": {
      "image/png": "[encoded data removed]",
      "text/plain": [
       "<Figure size 2000x500 with 5 Axes>"
      ]
     },
     "metadata": {},
     "output_type": "display_data"
    }
   ],
   "source": [
    "plot_funnel_metrics(metrics_for_funnel_data)"
   ]
  },
  {
   "cell_type": "markdown",
   "id": "20bf67ce-f74b-4d2d-abfe-6ccc5120d51b",
   "metadata": {},
   "source": [
    "### Задание 3. Python\n",
    "### 3.1 Задача\n",
    "\n",
    "### Реализуйте функцию, которая будет автоматически подгружать информацию из дополнительного файла groups_add.csv (заголовки могут отличаться) и на основании дополнительных параметров пересчитывать метрики.\n",
    "### Реализуйте функцию, которая будет строить графики по получаемым метрикам."
   ]
  },
  {
   "cell_type": "code",
   "execution_count": 104,
   "id": "e90bbe10-7f9a-46fa-af1a-a4fbfe06ba6f",
   "metadata": {},
   "outputs": [],
   "source": [
    "\n",
    "def actual_metrics(new_users_file, groups_file, active_studs_file, checks_file):\n",
    "    '''Функция автоматически подгружает из дополнительного \n",
    "       файла информацию о пользователях, меняет заголовки,\n",
    "       т.к. они могут отличаться и пересчитывает метрики.\n",
    "    '''\n",
    "    # Загрузка и переименование столбцов новой выборки пользователей\n",
    "    new_users = pd.read_csv(new_users_file)\n",
    "    new_users.rename(columns={new_users.columns[0]: 'student_id', new_users.columns[1]: 'grp'}, inplace=True)\n",
    "    \n",
    "    # Загрузка и переименование столбцов файла с группами\n",
    "    groups = pd.read_csv(groups_file, sep=';')\n",
    "    groups.rename(columns={'id': 'student_id'}, inplace=True)\n",
    "    \n",
    "    # Загрузка файлов с активными студентами и покупками\n",
    "    active_studs = pd.read_csv(active_studs_file)\n",
    "    checks = pd.read_csv(checks_file, sep=';')\n",
    "    \n",
    "    # Объединение данных о группах и новых пользователях\n",
    "    all_students = pd.concat([groups, new_users]).reset_index(drop=True)\n",
    "    \n",
    "    # Фильтрация чеков по активным студентам\n",
    "    checks_filtered = checks.merge(active_studs, on='student_id', how='inner')\n",
    "    \n",
    "    # Объединение всех данных\n",
    "    df = active_studs.merge(all_students, on='student_id', how='left') \\\n",
    "                     .merge(checks_filtered, on='student_id', how='left')\n",
    "    \n",
    "    # Расчет метрик\n",
    "    results = df.groupby('grp', as_index=False).agg({\n",
    "        'student_id': 'count',\n",
    "        'rev': ['sum', 'count']\n",
    "    })\n",
    "    \n",
    "    results.columns = ['grp', 'users', 'income', 'pay_users']\n",
    "    results['ARPU'] = round(results.income / results.users, 2)\n",
    "    results['CR'] = round(results.pay_users / results.users, 3)\n",
    "    results['ARPPU'] = round(results.income / results.pay_users, 2)\n",
    "    return results"
   ]
  },
  {
   "cell_type": "markdown",
   "id": "a45ee002-703f-437e-88f6-d647dc5130c5",
   "metadata": {},
   "source": [
    "## Проверка работы\n"
   ]
  },
  {
   "cell_type": "code",
   "execution_count": 105,
   "id": "92aade0a-63f3-44b0-a267-774f867794ed",
   "metadata": {},
   "outputs": [
    {
     "data": {
      "text/html": [
       "<div>\n",
       "<style scoped>\n",
       "    .dataframe tbody tr th:only-of-type {\n",
       "        vertical-align: middle;\n",
       "    }\n",
       "\n",
       "    .dataframe tbody tr th {\n",
       "        vertical-align: top;\n",
       "    }\n",
       "\n",
       "    .dataframe thead th {\n",
       "        text-align: right;\n",
       "    }\n",
       "</style>\n",
       "<table border=\"1\" class=\"dataframe\">\n",
       "  <thead>\n",
       "    <tr style=\"text-align: right;\">\n",
       "      <th></th>\n",
       "      <th>grp</th>\n",
       "      <th>users</th>\n",
       "      <th>income</th>\n",
       "      <th>pay_users</th>\n",
       "      <th>ARPU</th>\n",
       "      <th>CR</th>\n",
       "      <th>ARPPU</th>\n",
       "    </tr>\n",
       "  </thead>\n",
       "  <tbody>\n",
       "    <tr>\n",
       "      <th>0</th>\n",
       "      <td>A</td>\n",
       "      <td>1538</td>\n",
       "      <td>72820.0000</td>\n",
       "      <td>78</td>\n",
       "      <td>47.35</td>\n",
       "      <td>0.051</td>\n",
       "      <td>933.59</td>\n",
       "    </tr>\n",
       "    <tr>\n",
       "      <th>1</th>\n",
       "      <td>B</td>\n",
       "      <td>6803</td>\n",
       "      <td>394974.0035</td>\n",
       "      <td>314</td>\n",
       "      <td>58.06</td>\n",
       "      <td>0.046</td>\n",
       "      <td>1257.88</td>\n",
       "    </tr>\n",
       "  </tbody>\n",
       "</table>\n",
       "</div>"
      ],
      "text/plain": [
       "  grp  users       income  pay_users   ARPU     CR    ARPPU\n",
       "0   A   1538   72820.0000         78  47.35  0.051   933.59\n",
       "1   B   6803  394974.0035        314  58.06  0.046  1257.88"
      ]
     },
     "execution_count": 105,
     "metadata": {},
     "output_type": "execute_result"
    }
   ],
   "source": [
    "actual_metrics = actual_metrics('Проект_2_group_add.csv', 'Проект_2_groups.csv', 'Проект_2_active_studs.csv', 'Проект_2_checks.csv')\n",
    "actual_metrics"
   ]
  },
  {
   "cell_type": "markdown",
   "id": "f63493ac-1c0a-49de-960e-da814e0070c9",
   "metadata": {},
   "source": [
    "## Функция отрисовки метрик"
   ]
  },
  {
   "cell_type": "code",
   "execution_count": 106,
   "id": "f8734db2-5a9a-4dbc-853c-f9314a4f43f2",
   "metadata": {},
   "outputs": [],
   "source": [
    "def plot_graphics(actual_metrics):\n",
    "    '''Функция, которая строит графики по полученным метрикам\n",
    "    '''\n",
    "    sns.set(rc={'figure.figsize':(16,10)})\n",
    "    fig, axes = plt.subplots(nrows=1, ncols=3) #количество отрисованых графиков в 1 строке\n",
    "    \n",
    "    sns.barplot(x=actual_metrics.grp, y=actual_metrics.ARPU, ax=axes[0], palette='colorblind').set_title('ARPU')\n",
    "    sns.barplot(x=actual_metrics.grp, y=actual_metrics.CR, ax=axes[1], palette='colorblind').set_title('CR')\n",
    "    sns.barplot(x=actual_metrics.grp, y=actual_metrics.ARPPU, ax=axes[2], palette='colorblind').set_title('ARPPU')"
   ]
  },
  {
   "cell_type": "markdown",
   "id": "7c9e6e70-58e1-4a36-aa57-946c349df5c2",
   "metadata": {},
   "source": [
    "## Проверка функции"
   ]
  },
  {
   "cell_type": "code",
   "execution_count": 107,
   "id": "b3599517-656e-4d52-907e-c8df22dd29ee",
   "metadata": {},
   "outputs": [
    {
     "name": "stderr",
     "output_type": "stream",
     "text": [
      "C:\\Users\\Анна\\AppData\\Local\\Temp\\ipykernel_8064\\2516333365.py:7: FutureWarning: \n",
      "\n",
      "Passing `palette` without assigning `hue` is deprecated and will be removed in v0.14.0. Assign the `x` variable to `hue` and set `legend=False` for the same effect.\n",
      "\n",
      "  sns.barplot(x=actual_metrics.grp, y=actual_metrics.ARPU, ax=axes[0], palette='colorblind').set_title('ARPU')\n",
      "C:\\Users\\Анна\\AppData\\Local\\Temp\\ipykernel_8064\\2516333365.py:8: FutureWarning: \n",
      "\n",
      "Passing `palette` without assigning `hue` is deprecated and will be removed in v0.14.0. Assign the `x` variable to `hue` and set `legend=False` for the same effect.\n",
      "\n",
      "  sns.barplot(x=actual_metrics.grp, y=actual_metrics.CR, ax=axes[1], palette='colorblind').set_title('CR')\n",
      "C:\\Users\\Анна\\AppData\\Local\\Temp\\ipykernel_8064\\2516333365.py:9: FutureWarning: \n",
      "\n",
      "Passing `palette` without assigning `hue` is deprecated and will be removed in v0.14.0. Assign the `x` variable to `hue` and set `legend=False` for the same effect.\n",
      "\n",
      "  sns.barplot(x=actual_metrics.grp, y=actual_metrics.ARPPU, ax=axes[2], palette='colorblind').set_title('ARPPU')\n"
     ]
    },
    {
     "data": {
      "image/png": "[encoded data removed]",
      "text/plain": [
       "<Figure size 1600x1000 with 3 Axes>"
      ]
     },
     "metadata": {},
     "output_type": "display_data"
    }
   ],
   "source": [
    "plot_graphics(actual_metrics)"
   ]
  },
  {
   "cell_type": "code",
   "execution_count": null,
   "id": "8b67a3b0-06f1-40ba-9ede-4625fb4bfe20",
   "metadata": {},
   "outputs": [],
   "source": []
  },
  {
   "cell_type": "code",
   "execution_count": null,
   "id": "c1b2b30d-10b0-4d9f-8b08-12fe7b882486",
   "metadata": {},
   "outputs": [],
   "source": []
  },
  {
   "cell_type": "code",
   "execution_count": null,
   "id": "f3544057-a504-4431-9d8b-5dae60df13fb",
   "metadata": {},
   "outputs": [],
   "source": []
  },
  {
   "cell_type": "code",
   "execution_count": null,
   "id": "16fa6628-c04a-4c3e-baf2-f127dd878cd5",
   "metadata": {},
   "outputs": [],
   "source": []
  },
  {
   "cell_type": "code",
   "execution_count": null,
   "id": "baeafecb-497e-437d-a5af-af5d2ab63f1f",
   "metadata": {},
   "outputs": [],
   "source": []
  },
  {
   "cell_type": "code",
   "execution_count": null,
   "id": "c3eaa0b7-2ab7-4d05-98d0-d2b82399ed6b",
   "metadata": {},
   "outputs": [],
   "source": []
  },
  {
   "cell_type": "code",
   "execution_count": null,
   "id": "279e25b2-9802-491d-bea6-2c71e117077f",
   "metadata": {},
   "outputs": [],
   "source": []
  },
  {
   "cell_type": "code",
   "execution_count": null,
   "id": "6e8ce62f-dff3-4591-901b-034f4dd63e00",
   "metadata": {},
   "outputs": [],
   "source": []
  },
  {
   "cell_type": "code",
   "execution_count": null,
   "id": "216368a2-bb1e-4107-be8a-158e92de105a",
   "metadata": {},
   "outputs": [],
   "source": []
  },
  {
   "cell_type": "code",
   "execution_count": null,
   "id": "8c0c47ba-f5c7-46d4-b51a-645efe58635e",
   "metadata": {},
   "outputs": [],
   "source": []
  },
  {
   "cell_type": "code",
   "execution_count": null,
   "id": "26cabe4a-6d8e-4dc8-b89f-e10ba9572872",
   "metadata": {},
   "outputs": [],
   "source": []
  },
  {
   "cell_type": "code",
   "execution_count": null,
   "id": "d514eac8-2e86-40a9-87cc-8d95c5a9b83f",
   "metadata": {},
   "outputs": [],
   "source": []
  },
  {
   "cell_type": "code",
   "execution_count": null,
   "id": "0deb60e1-3f88-415e-b043-69a96aabb5b5",
   "metadata": {},
   "outputs": [],
   "source": []
  },
  {
   "cell_type": "code",
   "execution_count": null,
   "id": "f179429c-e901-47b5-b4a5-925ccc4d37b7",
   "metadata": {},
   "outputs": [],
   "source": []
  },
  {
   "cell_type": "code",
   "execution_count": null,
   "id": "98fbbfdc-966d-4254-8a35-0a15dd4c1e07",
   "metadata": {},
   "outputs": [],
   "source": []
  },
  {
   "cell_type": "code",
   "execution_count": null,
   "id": "ef100087-80a5-42d9-b3b7-4a34c7ea7d4a",
   "metadata": {},
   "outputs": [],
   "source": []
  },
  {
   "cell_type": "code",
   "execution_count": null,
   "id": "edd9aae4-b427-4934-b1d5-a4068b6110d2",
   "metadata": {},
   "outputs": [],
   "source": []
  },
  {
   "cell_type": "code",
   "execution_count": null,
   "id": "bd938090-2e7c-4cb6-8faf-97ab0b717483",
   "metadata": {},
   "outputs": [],
   "source": []
  },
  {
   "cell_type": "code",
   "execution_count": null,
   "id": "203dbed2-3ce5-442a-8545-c5f44499f4c1",
   "metadata": {},
   "outputs": [],
   "source": []
  },
  {
   "cell_type": "code",
   "execution_count": null,
   "id": "7d92f230-f254-40be-8888-54f115e88d8e",
   "metadata": {},
   "outputs": [],
   "source": []
  },
  {
   "cell_type": "code",
   "execution_count": null,
   "id": "096f6a44-0eab-4eb6-b696-a78521037d3b",
   "metadata": {},
   "outputs": [],
   "source": []
  },
  {
   "cell_type": "code",
   "execution_count": null,
   "id": "351aba67-ed0d-4087-bede-132b3d0d574a",
   "metadata": {},
   "outputs": [],
   "source": []
  },
  {
   "cell_type": "code",
   "execution_count": null,
   "id": "16257f90-b364-47d5-85aa-218228e21c89",
   "metadata": {},
   "outputs": [],
   "source": []
  },
  {
   "cell_type": "code",
   "execution_count": null,
   "id": "d8e9c2d4-8038-4993-a651-a161bb3d66f2",
   "metadata": {},
   "outputs": [],
   "source": []
  },
  {
   "cell_type": "code",
   "execution_count": null,
   "id": "3cd1d2a4-ac67-4811-8a2e-1fe45c8d1169",
   "metadata": {},
   "outputs": [],
   "source": []
  },
  {
   "cell_type": "code",
   "execution_count": null,
   "id": "b96cd4f1-d763-4de8-b2b8-a7e3af9a7188",
   "metadata": {},
   "outputs": [],
   "source": []
  },
  {
   "cell_type": "code",
   "execution_count": null,
   "id": "f3f9b9e7-d086-453a-ad21-d0fd47a82b8a",
   "metadata": {},
   "outputs": [],
   "source": []
  },
  {
   "cell_type": "code",
   "execution_count": null,
   "id": "0e608a72-e350-4a1d-8486-b190b37aa5af",
   "metadata": {},
   "outputs": [],
   "source": []
  },
  {
   "cell_type": "code",
   "execution_count": null,
   "id": "d4e6b106-bb4f-48a5-825d-387c5bd97807",
   "metadata": {},
   "outputs": [],
   "source": []
  },
  {
   "cell_type": "code",
   "execution_count": null,
   "id": "203f037c-d064-4093-8f7d-e0fe4bcce0b6",
   "metadata": {},
   "outputs": [],
   "source": []
  },
  {
   "cell_type": "code",
   "execution_count": null,
   "id": "299bfc93-0218-4230-9a77-2dc30d0af3b8",
   "metadata": {},
   "outputs": [],
   "source": []
  },
  {
   "cell_type": "code",
   "execution_count": null,
   "id": "bb3b5df3-c26b-4dd4-9689-79e2c7c5b5b2",
   "metadata": {},
   "outputs": [],
   "source": []
  },
  {
   "cell_type": "code",
   "execution_count": null,
   "id": "1f459ec8-4ffd-482c-aeea-e7a3a1e40697",
   "metadata": {},
   "outputs": [],
   "source": []
  },
  {
   "cell_type": "code",
   "execution_count": null,
   "id": "550699c8-cdce-452c-9020-14bf72c5662b",
   "metadata": {},
   "outputs": [],
   "source": []
  }
 ],
 "metadata": {
  "kernelspec": {
   "display_name": "Python 3 (ipykernel)",
   "language": "python",
   "name": "python3"
  },
  "language_info": {
   "codemirror_mode": {
    "name": "ipython",
    "version": 3
   },
   "file_extension": ".py",
   "mimetype": "text/x-python",
   "name": "python",
   "nbconvert_exporter": "python",
   "pygments_lexer": "ipython3",
   "version": "3.12.0"
  }
 },
 "nbformat": 4,
 "nbformat_minor": 5
}
